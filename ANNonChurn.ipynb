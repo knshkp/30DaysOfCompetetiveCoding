{
  "nbformat": 4,
  "nbformat_minor": 0,
  "metadata": {
    "colab": {
      "name": "Untitled11.ipynb",
      "provenance": [],
      "authorship_tag": "ABX9TyOLE/mYeVWcQ+CURfZDJDQE",
      "include_colab_link": true
    },
    "kernelspec": {
      "name": "python3",
      "display_name": "Python 3"
    },
    "language_info": {
      "name": "python"
    }
  },
  "cells": [
    {
      "cell_type": "markdown",
      "metadata": {
        "id": "view-in-github",
        "colab_type": "text"
      },
      "source": [
        "<a href=\"https://colab.research.google.com/github/knshkp/30DaysOfCompetetiveCoding/blob/main/ANNonChurn.ipynb\" target=\"_parent\"><img src=\"https://colab.research.google.com/assets/colab-badge.svg\" alt=\"Open In Colab\"/></a>"
      ]
    },
    {
      "cell_type": "code",
      "metadata": {
        "id": "gCuHayPa9D80"
      },
      "source": [
        "import numpy as np\n",
        "import pandas as pd\n",
        "import tensorflow as tf\n",
        "from tensorflow import keras\n",
        "import matplotlib.pyplot as plt"
      ],
      "execution_count": 74,
      "outputs": []
    },
    {
      "cell_type": "code",
      "metadata": {
        "colab": {
          "base_uri": "https://localhost:8080/",
          "height": 309
        },
        "id": "iqkRuwJa9X03",
        "outputId": "6b5ed2b6-bf4f-434a-dabb-c6f82fafe5e2"
      },
      "source": [
        "df=pd.read_csv(\"/content/WA_Fn-UseC_-Telco-Customer-Churn.csv\")\n",
        "df.head()"
      ],
      "execution_count": 75,
      "outputs": [
        {
          "output_type": "execute_result",
          "data": {
            "text/html": [
              "<div>\n",
              "<style scoped>\n",
              "    .dataframe tbody tr th:only-of-type {\n",
              "        vertical-align: middle;\n",
              "    }\n",
              "\n",
              "    .dataframe tbody tr th {\n",
              "        vertical-align: top;\n",
              "    }\n",
              "\n",
              "    .dataframe thead th {\n",
              "        text-align: right;\n",
              "    }\n",
              "</style>\n",
              "<table border=\"1\" class=\"dataframe\">\n",
              "  <thead>\n",
              "    <tr style=\"text-align: right;\">\n",
              "      <th></th>\n",
              "      <th>customerID</th>\n",
              "      <th>gender</th>\n",
              "      <th>SeniorCitizen</th>\n",
              "      <th>Partner</th>\n",
              "      <th>Dependents</th>\n",
              "      <th>tenure</th>\n",
              "      <th>PhoneService</th>\n",
              "      <th>MultipleLines</th>\n",
              "      <th>InternetService</th>\n",
              "      <th>OnlineSecurity</th>\n",
              "      <th>OnlineBackup</th>\n",
              "      <th>DeviceProtection</th>\n",
              "      <th>TechSupport</th>\n",
              "      <th>StreamingTV</th>\n",
              "      <th>StreamingMovies</th>\n",
              "      <th>Contract</th>\n",
              "      <th>PaperlessBilling</th>\n",
              "      <th>PaymentMethod</th>\n",
              "      <th>MonthlyCharges</th>\n",
              "      <th>TotalCharges</th>\n",
              "      <th>Churn</th>\n",
              "    </tr>\n",
              "  </thead>\n",
              "  <tbody>\n",
              "    <tr>\n",
              "      <th>0</th>\n",
              "      <td>7590-VHVEG</td>\n",
              "      <td>Female</td>\n",
              "      <td>0</td>\n",
              "      <td>Yes</td>\n",
              "      <td>No</td>\n",
              "      <td>1</td>\n",
              "      <td>No</td>\n",
              "      <td>No phone service</td>\n",
              "      <td>DSL</td>\n",
              "      <td>No</td>\n",
              "      <td>Yes</td>\n",
              "      <td>No</td>\n",
              "      <td>No</td>\n",
              "      <td>No</td>\n",
              "      <td>No</td>\n",
              "      <td>Month-to-month</td>\n",
              "      <td>Yes</td>\n",
              "      <td>Electronic check</td>\n",
              "      <td>29.85</td>\n",
              "      <td>29.85</td>\n",
              "      <td>No</td>\n",
              "    </tr>\n",
              "    <tr>\n",
              "      <th>1</th>\n",
              "      <td>5575-GNVDE</td>\n",
              "      <td>Male</td>\n",
              "      <td>0</td>\n",
              "      <td>No</td>\n",
              "      <td>No</td>\n",
              "      <td>34</td>\n",
              "      <td>Yes</td>\n",
              "      <td>No</td>\n",
              "      <td>DSL</td>\n",
              "      <td>Yes</td>\n",
              "      <td>No</td>\n",
              "      <td>Yes</td>\n",
              "      <td>No</td>\n",
              "      <td>No</td>\n",
              "      <td>No</td>\n",
              "      <td>One year</td>\n",
              "      <td>No</td>\n",
              "      <td>Mailed check</td>\n",
              "      <td>56.95</td>\n",
              "      <td>1889.5</td>\n",
              "      <td>No</td>\n",
              "    </tr>\n",
              "    <tr>\n",
              "      <th>2</th>\n",
              "      <td>3668-QPYBK</td>\n",
              "      <td>Male</td>\n",
              "      <td>0</td>\n",
              "      <td>No</td>\n",
              "      <td>No</td>\n",
              "      <td>2</td>\n",
              "      <td>Yes</td>\n",
              "      <td>No</td>\n",
              "      <td>DSL</td>\n",
              "      <td>Yes</td>\n",
              "      <td>Yes</td>\n",
              "      <td>No</td>\n",
              "      <td>No</td>\n",
              "      <td>No</td>\n",
              "      <td>No</td>\n",
              "      <td>Month-to-month</td>\n",
              "      <td>Yes</td>\n",
              "      <td>Mailed check</td>\n",
              "      <td>53.85</td>\n",
              "      <td>108.15</td>\n",
              "      <td>Yes</td>\n",
              "    </tr>\n",
              "    <tr>\n",
              "      <th>3</th>\n",
              "      <td>7795-CFOCW</td>\n",
              "      <td>Male</td>\n",
              "      <td>0</td>\n",
              "      <td>No</td>\n",
              "      <td>No</td>\n",
              "      <td>45</td>\n",
              "      <td>No</td>\n",
              "      <td>No phone service</td>\n",
              "      <td>DSL</td>\n",
              "      <td>Yes</td>\n",
              "      <td>No</td>\n",
              "      <td>Yes</td>\n",
              "      <td>Yes</td>\n",
              "      <td>No</td>\n",
              "      <td>No</td>\n",
              "      <td>One year</td>\n",
              "      <td>No</td>\n",
              "      <td>Bank transfer (automatic)</td>\n",
              "      <td>42.30</td>\n",
              "      <td>1840.75</td>\n",
              "      <td>No</td>\n",
              "    </tr>\n",
              "    <tr>\n",
              "      <th>4</th>\n",
              "      <td>9237-HQITU</td>\n",
              "      <td>Female</td>\n",
              "      <td>0</td>\n",
              "      <td>No</td>\n",
              "      <td>No</td>\n",
              "      <td>2</td>\n",
              "      <td>Yes</td>\n",
              "      <td>No</td>\n",
              "      <td>Fiber optic</td>\n",
              "      <td>No</td>\n",
              "      <td>No</td>\n",
              "      <td>No</td>\n",
              "      <td>No</td>\n",
              "      <td>No</td>\n",
              "      <td>No</td>\n",
              "      <td>Month-to-month</td>\n",
              "      <td>Yes</td>\n",
              "      <td>Electronic check</td>\n",
              "      <td>70.70</td>\n",
              "      <td>151.65</td>\n",
              "      <td>Yes</td>\n",
              "    </tr>\n",
              "  </tbody>\n",
              "</table>\n",
              "</div>"
            ],
            "text/plain": [
              "   customerID  gender  SeniorCitizen  ... MonthlyCharges TotalCharges  Churn\n",
              "0  7590-VHVEG  Female              0  ...          29.85        29.85     No\n",
              "1  5575-GNVDE    Male              0  ...          56.95       1889.5     No\n",
              "2  3668-QPYBK    Male              0  ...          53.85       108.15    Yes\n",
              "3  7795-CFOCW    Male              0  ...          42.30      1840.75     No\n",
              "4  9237-HQITU  Female              0  ...          70.70       151.65    Yes\n",
              "\n",
              "[5 rows x 21 columns]"
            ]
          },
          "metadata": {},
          "execution_count": 75
        }
      ]
    },
    {
      "cell_type": "code",
      "metadata": {
        "id": "qJyUESed9kzb",
        "colab": {
          "base_uri": "https://localhost:8080/"
        },
        "outputId": "e2824b0e-0735-4f41-bd5b-73400e498be0"
      },
      "source": [
        "df.dtypes"
      ],
      "execution_count": 76,
      "outputs": [
        {
          "output_type": "execute_result",
          "data": {
            "text/plain": [
              "customerID           object\n",
              "gender               object\n",
              "SeniorCitizen         int64\n",
              "Partner              object\n",
              "Dependents           object\n",
              "tenure                int64\n",
              "PhoneService         object\n",
              "MultipleLines        object\n",
              "InternetService      object\n",
              "OnlineSecurity       object\n",
              "OnlineBackup         object\n",
              "DeviceProtection     object\n",
              "TechSupport          object\n",
              "StreamingTV          object\n",
              "StreamingMovies      object\n",
              "Contract             object\n",
              "PaperlessBilling     object\n",
              "PaymentMethod        object\n",
              "MonthlyCharges      float64\n",
              "TotalCharges         object\n",
              "Churn                object\n",
              "dtype: object"
            ]
          },
          "metadata": {},
          "execution_count": 76
        }
      ]
    },
    {
      "cell_type": "code",
      "metadata": {
        "id": "f-sP_t1Y_PvV"
      },
      "source": [
        "df.drop('customerID',axis=\"columns\",inplace=True)"
      ],
      "execution_count": 77,
      "outputs": []
    },
    {
      "cell_type": "code",
      "metadata": {
        "colab": {
          "base_uri": "https://localhost:8080/",
          "height": 292
        },
        "id": "3_7YN4PR_xUT",
        "outputId": "a47b8ceb-2f35-492d-c8db-6ecfa6b2d41d"
      },
      "source": [
        "df.head()"
      ],
      "execution_count": 78,
      "outputs": [
        {
          "output_type": "execute_result",
          "data": {
            "text/html": [
              "<div>\n",
              "<style scoped>\n",
              "    .dataframe tbody tr th:only-of-type {\n",
              "        vertical-align: middle;\n",
              "    }\n",
              "\n",
              "    .dataframe tbody tr th {\n",
              "        vertical-align: top;\n",
              "    }\n",
              "\n",
              "    .dataframe thead th {\n",
              "        text-align: right;\n",
              "    }\n",
              "</style>\n",
              "<table border=\"1\" class=\"dataframe\">\n",
              "  <thead>\n",
              "    <tr style=\"text-align: right;\">\n",
              "      <th></th>\n",
              "      <th>gender</th>\n",
              "      <th>SeniorCitizen</th>\n",
              "      <th>Partner</th>\n",
              "      <th>Dependents</th>\n",
              "      <th>tenure</th>\n",
              "      <th>PhoneService</th>\n",
              "      <th>MultipleLines</th>\n",
              "      <th>InternetService</th>\n",
              "      <th>OnlineSecurity</th>\n",
              "      <th>OnlineBackup</th>\n",
              "      <th>DeviceProtection</th>\n",
              "      <th>TechSupport</th>\n",
              "      <th>StreamingTV</th>\n",
              "      <th>StreamingMovies</th>\n",
              "      <th>Contract</th>\n",
              "      <th>PaperlessBilling</th>\n",
              "      <th>PaymentMethod</th>\n",
              "      <th>MonthlyCharges</th>\n",
              "      <th>TotalCharges</th>\n",
              "      <th>Churn</th>\n",
              "    </tr>\n",
              "  </thead>\n",
              "  <tbody>\n",
              "    <tr>\n",
              "      <th>0</th>\n",
              "      <td>Female</td>\n",
              "      <td>0</td>\n",
              "      <td>Yes</td>\n",
              "      <td>No</td>\n",
              "      <td>1</td>\n",
              "      <td>No</td>\n",
              "      <td>No phone service</td>\n",
              "      <td>DSL</td>\n",
              "      <td>No</td>\n",
              "      <td>Yes</td>\n",
              "      <td>No</td>\n",
              "      <td>No</td>\n",
              "      <td>No</td>\n",
              "      <td>No</td>\n",
              "      <td>Month-to-month</td>\n",
              "      <td>Yes</td>\n",
              "      <td>Electronic check</td>\n",
              "      <td>29.85</td>\n",
              "      <td>29.85</td>\n",
              "      <td>No</td>\n",
              "    </tr>\n",
              "    <tr>\n",
              "      <th>1</th>\n",
              "      <td>Male</td>\n",
              "      <td>0</td>\n",
              "      <td>No</td>\n",
              "      <td>No</td>\n",
              "      <td>34</td>\n",
              "      <td>Yes</td>\n",
              "      <td>No</td>\n",
              "      <td>DSL</td>\n",
              "      <td>Yes</td>\n",
              "      <td>No</td>\n",
              "      <td>Yes</td>\n",
              "      <td>No</td>\n",
              "      <td>No</td>\n",
              "      <td>No</td>\n",
              "      <td>One year</td>\n",
              "      <td>No</td>\n",
              "      <td>Mailed check</td>\n",
              "      <td>56.95</td>\n",
              "      <td>1889.5</td>\n",
              "      <td>No</td>\n",
              "    </tr>\n",
              "    <tr>\n",
              "      <th>2</th>\n",
              "      <td>Male</td>\n",
              "      <td>0</td>\n",
              "      <td>No</td>\n",
              "      <td>No</td>\n",
              "      <td>2</td>\n",
              "      <td>Yes</td>\n",
              "      <td>No</td>\n",
              "      <td>DSL</td>\n",
              "      <td>Yes</td>\n",
              "      <td>Yes</td>\n",
              "      <td>No</td>\n",
              "      <td>No</td>\n",
              "      <td>No</td>\n",
              "      <td>No</td>\n",
              "      <td>Month-to-month</td>\n",
              "      <td>Yes</td>\n",
              "      <td>Mailed check</td>\n",
              "      <td>53.85</td>\n",
              "      <td>108.15</td>\n",
              "      <td>Yes</td>\n",
              "    </tr>\n",
              "    <tr>\n",
              "      <th>3</th>\n",
              "      <td>Male</td>\n",
              "      <td>0</td>\n",
              "      <td>No</td>\n",
              "      <td>No</td>\n",
              "      <td>45</td>\n",
              "      <td>No</td>\n",
              "      <td>No phone service</td>\n",
              "      <td>DSL</td>\n",
              "      <td>Yes</td>\n",
              "      <td>No</td>\n",
              "      <td>Yes</td>\n",
              "      <td>Yes</td>\n",
              "      <td>No</td>\n",
              "      <td>No</td>\n",
              "      <td>One year</td>\n",
              "      <td>No</td>\n",
              "      <td>Bank transfer (automatic)</td>\n",
              "      <td>42.30</td>\n",
              "      <td>1840.75</td>\n",
              "      <td>No</td>\n",
              "    </tr>\n",
              "    <tr>\n",
              "      <th>4</th>\n",
              "      <td>Female</td>\n",
              "      <td>0</td>\n",
              "      <td>No</td>\n",
              "      <td>No</td>\n",
              "      <td>2</td>\n",
              "      <td>Yes</td>\n",
              "      <td>No</td>\n",
              "      <td>Fiber optic</td>\n",
              "      <td>No</td>\n",
              "      <td>No</td>\n",
              "      <td>No</td>\n",
              "      <td>No</td>\n",
              "      <td>No</td>\n",
              "      <td>No</td>\n",
              "      <td>Month-to-month</td>\n",
              "      <td>Yes</td>\n",
              "      <td>Electronic check</td>\n",
              "      <td>70.70</td>\n",
              "      <td>151.65</td>\n",
              "      <td>Yes</td>\n",
              "    </tr>\n",
              "  </tbody>\n",
              "</table>\n",
              "</div>"
            ],
            "text/plain": [
              "   gender  SeniorCitizen Partner  ... MonthlyCharges  TotalCharges Churn\n",
              "0  Female              0     Yes  ...          29.85         29.85    No\n",
              "1    Male              0      No  ...          56.95        1889.5    No\n",
              "2    Male              0      No  ...          53.85        108.15   Yes\n",
              "3    Male              0      No  ...          42.30       1840.75    No\n",
              "4  Female              0      No  ...          70.70        151.65   Yes\n",
              "\n",
              "[5 rows x 20 columns]"
            ]
          },
          "metadata": {},
          "execution_count": 78
        }
      ]
    },
    {
      "cell_type": "code",
      "metadata": {
        "colab": {
          "base_uri": "https://localhost:8080/"
        },
        "id": "mrNUJ10f_zf2",
        "outputId": "7eaa73d0-5216-42e7-bfb7-0df47468b134"
      },
      "source": [
        "pd.to_numeric(df.TotalCharges,errors='coerce')"
      ],
      "execution_count": 79,
      "outputs": [
        {
          "output_type": "execute_result",
          "data": {
            "text/plain": [
              "0         29.85\n",
              "1       1889.50\n",
              "2        108.15\n",
              "3       1840.75\n",
              "4        151.65\n",
              "         ...   \n",
              "7038    1990.50\n",
              "7039    7362.90\n",
              "7040     346.45\n",
              "7041     306.60\n",
              "7042    6844.50\n",
              "Name: TotalCharges, Length: 7043, dtype: float64"
            ]
          },
          "metadata": {},
          "execution_count": 79
        }
      ]
    },
    {
      "cell_type": "code",
      "metadata": {
        "colab": {
          "base_uri": "https://localhost:8080/"
        },
        "id": "Woiw_t2ZAPa3",
        "outputId": "30309c8c-574d-49c9-e80c-7bd427fd8dcf"
      },
      "source": [
        "df[pd.to_numeric(df.TotalCharges,errors='coerce').isnull()].shape"
      ],
      "execution_count": 80,
      "outputs": [
        {
          "output_type": "execute_result",
          "data": {
            "text/plain": [
              "(11, 20)"
            ]
          },
          "metadata": {},
          "execution_count": 80
        }
      ]
    },
    {
      "cell_type": "code",
      "metadata": {
        "colab": {
          "base_uri": "https://localhost:8080/"
        },
        "id": "t-MhsLZdCFVi",
        "outputId": "c3d60ef4-6c0e-403a-a8e7-83ffb5d0bc2e"
      },
      "source": [
        "df1=df[df.TotalCharges!=\" \"]\n",
        "df1.shape"
      ],
      "execution_count": 81,
      "outputs": [
        {
          "output_type": "execute_result",
          "data": {
            "text/plain": [
              "(7032, 20)"
            ]
          },
          "metadata": {},
          "execution_count": 81
        }
      ]
    },
    {
      "cell_type": "code",
      "metadata": {
        "colab": {
          "base_uri": "https://localhost:8080/"
        },
        "id": "T9ZLj2J2Co_R",
        "outputId": "c6b12760-745d-4aaa-f6a7-b64ce5b0aa41"
      },
      "source": [
        "df1.dtypes"
      ],
      "execution_count": 82,
      "outputs": [
        {
          "output_type": "execute_result",
          "data": {
            "text/plain": [
              "gender               object\n",
              "SeniorCitizen         int64\n",
              "Partner              object\n",
              "Dependents           object\n",
              "tenure                int64\n",
              "PhoneService         object\n",
              "MultipleLines        object\n",
              "InternetService      object\n",
              "OnlineSecurity       object\n",
              "OnlineBackup         object\n",
              "DeviceProtection     object\n",
              "TechSupport          object\n",
              "StreamingTV          object\n",
              "StreamingMovies      object\n",
              "Contract             object\n",
              "PaperlessBilling     object\n",
              "PaymentMethod        object\n",
              "MonthlyCharges      float64\n",
              "TotalCharges         object\n",
              "Churn                object\n",
              "dtype: object"
            ]
          },
          "metadata": {},
          "execution_count": 82
        }
      ]
    },
    {
      "cell_type": "code",
      "metadata": {
        "colab": {
          "base_uri": "https://localhost:8080/"
        },
        "id": "T1z4WO0LC0VQ",
        "outputId": "f890dc45-abb1-4542-87cc-ba61a574154b"
      },
      "source": [
        "df1.TotalCharges=pd.to_numeric(df1.TotalCharges)"
      ],
      "execution_count": 83,
      "outputs": [
        {
          "output_type": "stream",
          "name": "stderr",
          "text": [
            "/usr/local/lib/python3.7/dist-packages/pandas/core/generic.py:5170: SettingWithCopyWarning: \n",
            "A value is trying to be set on a copy of a slice from a DataFrame.\n",
            "Try using .loc[row_indexer,col_indexer] = value instead\n",
            "\n",
            "See the caveats in the documentation: https://pandas.pydata.org/pandas-docs/stable/user_guide/indexing.html#returning-a-view-versus-a-copy\n",
            "  self[name] = value\n"
          ]
        }
      ]
    },
    {
      "cell_type": "code",
      "metadata": {
        "colab": {
          "base_uri": "https://localhost:8080/"
        },
        "id": "zn5IXYHqDIfi",
        "outputId": "0a8bbf7b-8489-4760-c151-c09acacd8348"
      },
      "source": [
        "df1.TotalCharges.dtypes"
      ],
      "execution_count": 84,
      "outputs": [
        {
          "output_type": "execute_result",
          "data": {
            "text/plain": [
              "dtype('float64')"
            ]
          },
          "metadata": {},
          "execution_count": 84
        }
      ]
    },
    {
      "cell_type": "code",
      "metadata": {
        "id": "qvTLaMIjDUx6"
      },
      "source": [
        "tenure_churn_no=df1[df1.Churn=='No'].tenure\n",
        "tenure_churn_yes=df1[df1.Churn=='Yes'].tenure\n"
      ],
      "execution_count": 85,
      "outputs": []
    },
    {
      "cell_type": "code",
      "metadata": {
        "colab": {
          "base_uri": "https://localhost:8080/",
          "height": 366
        },
        "id": "3NwpBrWkECS6",
        "outputId": "81fb0f85-2bf1-4c4e-d332-19e8797a9e73"
      },
      "source": [
        "plt.xlabel(\"Tenure\")\n",
        "plt.ylabel(\"No of customer\")\n",
        "plt.title(\"Customer churn prediction visualisation\")\n",
        "plt.hist([tenure_churn_yes,tenure_churn_no],color=['green','red'],label=['Yes','NO'])\n",
        "plt.legend()"
      ],
      "execution_count": 86,
      "outputs": [
        {
          "output_type": "stream",
          "name": "stderr",
          "text": [
            "/usr/local/lib/python3.7/dist-packages/numpy/core/_asarray.py:83: VisibleDeprecationWarning: Creating an ndarray from ragged nested sequences (which is a list-or-tuple of lists-or-tuples-or ndarrays with different lengths or shapes) is deprecated. If you meant to do this, you must specify 'dtype=object' when creating the ndarray\n",
            "  return array(a, dtype, copy=False, order=order)\n"
          ]
        },
        {
          "output_type": "execute_result",
          "data": {
            "text/plain": [
              "<matplotlib.legend.Legend at 0x7f6071368590>"
            ]
          },
          "metadata": {},
          "execution_count": 86
        },
        {
          "output_type": "display_data",
          "data": {
            "image/png": "[encoded data removed]",
            "text/plain": [
              "<Figure size 432x288 with 1 Axes>"
            ]
          },
          "metadata": {
            "needs_background": "light"
          }
        }
      ]
    },
    {
      "cell_type": "code",
      "metadata": {
        "id": "FbkSaAGCFYMQ"
      },
      "source": [
        "mc_churn_no=df1[df1.Churn=='No'].MonthlyCharges\n",
        "mc_churn_yes=df1[df1.Churn=='Yes'].MonthlyCharges"
      ],
      "execution_count": 87,
      "outputs": []
    },
    {
      "cell_type": "code",
      "metadata": {
        "colab": {
          "base_uri": "https://localhost:8080/",
          "height": 366
        },
        "id": "Qqwn_wRXVxQq",
        "outputId": "545d313d-afe7-4332-c131-2615ae401897"
      },
      "source": [
        "plt.xlabel(\"Monthly Charges\")\n",
        "plt.ylabel(\"No of customer\")\n",
        "plt.title(\"Customer churn prediction visualisation\")\n",
        "plt.hist([mc_churn_yes,mc_churn_no],rwidth=0.95,color=['green','red'],label=['Yes','NO'])\n",
        "plt.legend()"
      ],
      "execution_count": 88,
      "outputs": [
        {
          "output_type": "stream",
          "name": "stderr",
          "text": [
            "/usr/local/lib/python3.7/dist-packages/numpy/core/_asarray.py:83: VisibleDeprecationWarning: Creating an ndarray from ragged nested sequences (which is a list-or-tuple of lists-or-tuples-or ndarrays with different lengths or shapes) is deprecated. If you meant to do this, you must specify 'dtype=object' when creating the ndarray\n",
            "  return array(a, dtype, copy=False, order=order)\n"
          ]
        },
        {
          "output_type": "execute_result",
          "data": {
            "text/plain": [
              "<matplotlib.legend.Legend at 0x7f6071299750>"
            ]
          },
          "metadata": {},
          "execution_count": 88
        },
        {
          "output_type": "display_data",
          "data": {
            "image/png": "[encoded data removed]",
            "text/plain": [
              "<Figure size 432x288 with 1 Axes>"
            ]
          },
          "metadata": {
            "needs_background": "light"
          }
        }
      ]
    },
    {
      "cell_type": "code",
      "metadata": {
        "id": "N-V9i2QuWQHG"
      },
      "source": [
        "def print_unique_col_values(df):\n",
        "  for column in df:\n",
        "    if (df[column].dtype==object):\n",
        "      print(f'{column} : {df[column].unique()}')"
      ],
      "execution_count": 89,
      "outputs": []
    },
    {
      "cell_type": "code",
      "metadata": {
        "colab": {
          "base_uri": "https://localhost:8080/"
        },
        "id": "sg2T4YYPXCGw",
        "outputId": "99bbb871-9b7e-4914-e44b-4fedc87a02fc"
      },
      "source": [
        "print_unique_col_values(df1)"
      ],
      "execution_count": 90,
      "outputs": [
        {
          "output_type": "stream",
          "name": "stdout",
          "text": [
            "gender : ['Female' 'Male']\n",
            "Partner : ['Yes' 'No']\n",
            "Dependents : ['No' 'Yes']\n",
            "PhoneService : ['No' 'Yes']\n",
            "MultipleLines : ['No phone service' 'No' 'Yes']\n",
            "InternetService : ['DSL' 'Fiber optic' 'No']\n",
            "OnlineSecurity : ['No' 'Yes' 'No internet service']\n",
            "OnlineBackup : ['Yes' 'No' 'No internet service']\n",
            "DeviceProtection : ['No' 'Yes' 'No internet service']\n",
            "TechSupport : ['No' 'Yes' 'No internet service']\n",
            "StreamingTV : ['No' 'Yes' 'No internet service']\n",
            "StreamingMovies : ['No' 'Yes' 'No internet service']\n",
            "Contract : ['Month-to-month' 'One year' 'Two year']\n",
            "PaperlessBilling : ['Yes' 'No']\n",
            "PaymentMethod : ['Electronic check' 'Mailed check' 'Bank transfer (automatic)'\n",
            " 'Credit card (automatic)']\n",
            "Churn : ['No' 'Yes']\n"
          ]
        }
      ]
    },
    {
      "cell_type": "code",
      "metadata": {
        "colab": {
          "base_uri": "https://localhost:8080/"
        },
        "id": "oNabHqPkX8jw",
        "outputId": "fd47fab1-52d5-4431-c62f-4bea57425501"
      },
      "source": [
        "print_unique_col_values(df1)\n"
      ],
      "execution_count": 91,
      "outputs": [
        {
          "output_type": "stream",
          "name": "stdout",
          "text": [
            "gender : ['Female' 'Male']\n",
            "Partner : ['Yes' 'No']\n",
            "Dependents : ['No' 'Yes']\n",
            "PhoneService : ['No' 'Yes']\n",
            "MultipleLines : ['No phone service' 'No' 'Yes']\n",
            "InternetService : ['DSL' 'Fiber optic' 'No']\n",
            "OnlineSecurity : ['No' 'Yes' 'No internet service']\n",
            "OnlineBackup : ['Yes' 'No' 'No internet service']\n",
            "DeviceProtection : ['No' 'Yes' 'No internet service']\n",
            "TechSupport : ['No' 'Yes' 'No internet service']\n",
            "StreamingTV : ['No' 'Yes' 'No internet service']\n",
            "StreamingMovies : ['No' 'Yes' 'No internet service']\n",
            "Contract : ['Month-to-month' 'One year' 'Two year']\n",
            "PaperlessBilling : ['Yes' 'No']\n",
            "PaymentMethod : ['Electronic check' 'Mailed check' 'Bank transfer (automatic)'\n",
            " 'Credit card (automatic)']\n",
            "Churn : ['No' 'Yes']\n"
          ]
        }
      ]
    },
    {
      "cell_type": "code",
      "metadata": {
        "colab": {
          "base_uri": "https://localhost:8080/"
        },
        "id": "wkfKR7eXZTnH",
        "outputId": "652c6ceb-0001-4873-e6e2-9b506e834940"
      },
      "source": [
        "df1.replace('No internet service','No',inplace=True)\n",
        "df1.replace('No phone service','No',inplace=True)"
      ],
      "execution_count": 93,
      "outputs": [
        {
          "output_type": "stream",
          "name": "stderr",
          "text": [
            "/usr/local/lib/python3.7/dist-packages/pandas/core/frame.py:4389: SettingWithCopyWarning: \n",
            "A value is trying to be set on a copy of a slice from a DataFrame\n",
            "\n",
            "See the caveats in the documentation: https://pandas.pydata.org/pandas-docs/stable/user_guide/indexing.html#returning-a-view-versus-a-copy\n",
            "  method=method,\n"
          ]
        }
      ]
    },
    {
      "cell_type": "code",
      "metadata": {
        "colab": {
          "base_uri": "https://localhost:8080/"
        },
        "id": "vPW6fiIla1gG",
        "outputId": "8e2ebb6b-8712-45e0-c265-6c338fab2159"
      },
      "source": [
        "print_unique_col_values(df1)"
      ],
      "execution_count": 95,
      "outputs": [
        {
          "output_type": "stream",
          "name": "stdout",
          "text": [
            "gender : ['Female' 'Male']\n",
            "Partner : ['Yes' 'No']\n",
            "Dependents : ['No' 'Yes']\n",
            "PhoneService : ['No' 'Yes']\n",
            "MultipleLines : ['No' 'Yes']\n",
            "InternetService : ['DSL' 'Fiber optic' 'No']\n",
            "OnlineSecurity : ['No' 'Yes']\n",
            "OnlineBackup : ['Yes' 'No']\n",
            "DeviceProtection : ['No' 'Yes']\n",
            "TechSupport : ['No' 'Yes']\n",
            "StreamingTV : ['No' 'Yes']\n",
            "StreamingMovies : ['No' 'Yes']\n",
            "Contract : ['Month-to-month' 'One year' 'Two year']\n",
            "PaperlessBilling : ['Yes' 'No']\n",
            "PaymentMethod : ['Electronic check' 'Mailed check' 'Bank transfer (automatic)'\n",
            " 'Credit card (automatic)']\n",
            "Churn : ['No' 'Yes']\n"
          ]
        }
      ]
    },
    {
      "cell_type": "code",
      "metadata": {
        "colab": {
          "base_uri": "https://localhost:8080/"
        },
        "id": "Q_8fhoEXa8i0",
        "outputId": "a020afae-a2a7-4a1a-8863-d31fa245ca5b"
      },
      "source": [
        "yes_no_column=['Partner','Dependents','PhoneService','MultipleLines','OnlineSecurity','OnlineBackup','DeviceProtection','TechSupport','StreamingTV','StreamingMovies','PaperlessBilling','Churn']\n",
        "for col in yes_no_column:\n",
        "  df1[col].replace({'Yes':1 , 'No':0},inplace=True)"
      ],
      "execution_count": 96,
      "outputs": [
        {
          "output_type": "stream",
          "name": "stderr",
          "text": [
            "/usr/local/lib/python3.7/dist-packages/pandas/core/series.py:4582: SettingWithCopyWarning: \n",
            "A value is trying to be set on a copy of a slice from a DataFrame\n",
            "\n",
            "See the caveats in the documentation: https://pandas.pydata.org/pandas-docs/stable/user_guide/indexing.html#returning-a-view-versus-a-copy\n",
            "  method=method,\n"
          ]
        }
      ]
    },
    {
      "cell_type": "code",
      "metadata": {
        "colab": {
          "base_uri": "https://localhost:8080/"
        },
        "id": "TSZNZ8vEqQFD",
        "outputId": "cc6ecdb6-f607-413d-8e25-5bc6d475b958"
      },
      "source": [
        "print_unique_col_values(df1)"
      ],
      "execution_count": 97,
      "outputs": [
        {
          "output_type": "stream",
          "name": "stdout",
          "text": [
            "gender : ['Female' 'Male']\n",
            "InternetService : ['DSL' 'Fiber optic' 'No']\n",
            "Contract : ['Month-to-month' 'One year' 'Two year']\n",
            "PaymentMethod : ['Electronic check' 'Mailed check' 'Bank transfer (automatic)'\n",
            " 'Credit card (automatic)']\n"
          ]
        }
      ]
    },
    {
      "cell_type": "code",
      "metadata": {
        "colab": {
          "base_uri": "https://localhost:8080/"
        },
        "id": "pU6fv0Tcqdnp",
        "outputId": "5b4a4b51-46dd-4b73-de3d-482b55462123"
      },
      "source": [
        "df1['gender'].replace({'Female':0,'Male':1},inplace=True)"
      ],
      "execution_count": 99,
      "outputs": [
        {
          "output_type": "stream",
          "name": "stderr",
          "text": [
            "/usr/local/lib/python3.7/dist-packages/pandas/core/series.py:4582: SettingWithCopyWarning: \n",
            "A value is trying to be set on a copy of a slice from a DataFrame\n",
            "\n",
            "See the caveats in the documentation: https://pandas.pydata.org/pandas-docs/stable/user_guide/indexing.html#returning-a-view-versus-a-copy\n",
            "  method=method,\n"
          ]
        }
      ]
    },
    {
      "cell_type": "code",
      "metadata": {
        "colab": {
          "base_uri": "https://localhost:8080/"
        },
        "id": "wW_zJ4Ecq6Ta",
        "outputId": "71dfbfdb-ab33-4bbd-d5f7-efbeefe1c905"
      },
      "source": [
        "df2=pd.get_dummies(data=df1,columns=['InternetService','Contract','PaymentMethod'])\n",
        "df2.columns"
      ],
      "execution_count": 101,
      "outputs": [
        {
          "output_type": "execute_result",
          "data": {
            "text/plain": [
              "Index(['gender', 'SeniorCitizen', 'Partner', 'Dependents', 'tenure',\n",
              "       'PhoneService', 'MultipleLines', 'OnlineSecurity', 'OnlineBackup',\n",
              "       'DeviceProtection', 'TechSupport', 'StreamingTV', 'StreamingMovies',\n",
              "       'PaperlessBilling', 'MonthlyCharges', 'TotalCharges', 'Churn',\n",
              "       'InternetService_DSL', 'InternetService_Fiber optic',\n",
              "       'InternetService_No', 'Contract_Month-to-month', 'Contract_One year',\n",
              "       'Contract_Two year', 'PaymentMethod_Bank transfer (automatic)',\n",
              "       'PaymentMethod_Credit card (automatic)',\n",
              "       'PaymentMethod_Electronic check', 'PaymentMethod_Mailed check'],\n",
              "      dtype='object')"
            ]
          },
          "metadata": {},
          "execution_count": 101
        }
      ]
    },
    {
      "cell_type": "code",
      "metadata": {
        "colab": {
          "base_uri": "https://localhost:8080/"
        },
        "id": "b7ej3GKGr0Sa",
        "outputId": "42329312-394b-4786-d5e2-9f8704ac5024"
      },
      "source": [
        "df1.dtypes"
      ],
      "execution_count": 106,
      "outputs": [
        {
          "output_type": "execute_result",
          "data": {
            "text/plain": [
              "gender                int64\n",
              "SeniorCitizen         int64\n",
              "Partner               int64\n",
              "Dependents            int64\n",
              "tenure                int64\n",
              "PhoneService          int64\n",
              "MultipleLines         int64\n",
              "InternetService      object\n",
              "OnlineSecurity        int64\n",
              "OnlineBackup          int64\n",
              "DeviceProtection      int64\n",
              "TechSupport           int64\n",
              "StreamingTV           int64\n",
              "StreamingMovies       int64\n",
              "Contract             object\n",
              "PaperlessBilling      int64\n",
              "PaymentMethod        object\n",
              "MonthlyCharges      float64\n",
              "TotalCharges        float64\n",
              "Churn                 int64\n",
              "dtype: object"
            ]
          },
          "metadata": {},
          "execution_count": 106
        }
      ]
    },
    {
      "cell_type": "code",
      "metadata": {
        "id": "eYr-QPECsVjM"
      },
      "source": [
        "cols_to_scale=['tenure','MonthlyCharges','TotalCharges']\n",
        "from sklearn.preprocessing import MinMaxScaler\n",
        "scaler=MinMaxScaler()\n",
        "df2[cols_to_scale]=scaler.fit_transform(df2[cols_to_scale])\n"
      ],
      "execution_count": 108,
      "outputs": []
    },
    {
      "cell_type": "code",
      "metadata": {
        "id": "cORZuoclsv4i"
      },
      "source": [
        "X=df2.drop('Churn',axis='columns')\n",
        "y=df2['Churn']"
      ],
      "execution_count": 109,
      "outputs": []
    },
    {
      "cell_type": "code",
      "metadata": {
        "id": "GPnDXQicuDQY"
      },
      "source": [
        "from sklearn.model_selection import train_test_split\n",
        "X_train,X_test,y_train,y_test=train_test_split(X,y,test_size=0.2,random_state=5)"
      ],
      "execution_count": 111,
      "outputs": []
    },
    {
      "cell_type": "code",
      "metadata": {
        "colab": {
          "base_uri": "https://localhost:8080/"
        },
        "id": "tn-3V3JxufOO",
        "outputId": "0b56fa95-5222-41b7-ebf6-f9c4029ee4c4"
      },
      "source": [
        "model=keras.Sequential([\n",
        "                        keras.layers.Dense(20,input_shape=(26,),activation='relu'),\n",
        "                        keras.layers.Dense(15,activation='relu'),\n",
        "                        keras.layers.Dense(1,activation='sigmoid')\n",
        "])\n",
        "model.compile(optimizer='adam',loss='binary_crossentropy',metrics=['accuracy'])\n",
        "model.fit(X_train,y_train,epochs=500)"
      ],
      "execution_count": 115,
      "outputs": [
        {
          "output_type": "stream",
          "name": "stdout",
          "text": [
            "Epoch 1/500\n",
            "176/176 [==============================] - 1s 1ms/step - loss: 0.5220 - accuracy: 0.7326\n",
            "Epoch 2/500\n",
            "176/176 [==============================] - 0s 2ms/step - loss: 0.4304 - accuracy: 0.7941\n",
            "Epoch 3/500\n",
            "176/176 [==============================] - 0s 2ms/step - loss: 0.4197 - accuracy: 0.7982\n",
            "Epoch 4/500\n",
            "176/176 [==============================] - 0s 2ms/step - loss: 0.4154 - accuracy: 0.8057\n",
            "Epoch 5/500\n",
            "176/176 [==============================] - 0s 2ms/step - loss: 0.4123 - accuracy: 0.8062\n",
            "Epoch 6/500\n",
            "176/176 [==============================] - 0s 1ms/step - loss: 0.4110 - accuracy: 0.8043\n",
            "Epoch 7/500\n",
            "176/176 [==============================] - 0s 2ms/step - loss: 0.4082 - accuracy: 0.8052\n",
            "Epoch 8/500\n",
            "176/176 [==============================] - 0s 1ms/step - loss: 0.4068 - accuracy: 0.8087\n",
            "Epoch 9/500\n",
            "176/176 [==============================] - 0s 2ms/step - loss: 0.4043 - accuracy: 0.8080\n",
            "Epoch 10/500\n",
            "176/176 [==============================] - 0s 1ms/step - loss: 0.4028 - accuracy: 0.8135\n",
            "Epoch 11/500\n",
            "176/176 [==============================] - 0s 2ms/step - loss: 0.4010 - accuracy: 0.8123\n",
            "Epoch 12/500\n",
            "176/176 [==============================] - 0s 2ms/step - loss: 0.4002 - accuracy: 0.8144\n",
            "Epoch 13/500\n",
            "176/176 [==============================] - 0s 2ms/step - loss: 0.3994 - accuracy: 0.8144\n",
            "Epoch 14/500\n",
            "176/176 [==============================] - 0s 2ms/step - loss: 0.3985 - accuracy: 0.8137\n",
            "Epoch 15/500\n",
            "176/176 [==============================] - 0s 2ms/step - loss: 0.3969 - accuracy: 0.8148\n",
            "Epoch 16/500\n",
            "176/176 [==============================] - 0s 2ms/step - loss: 0.3960 - accuracy: 0.8158\n",
            "Epoch 17/500\n",
            "176/176 [==============================] - 0s 1ms/step - loss: 0.3946 - accuracy: 0.8176\n",
            "Epoch 18/500\n",
            "176/176 [==============================] - 0s 2ms/step - loss: 0.3947 - accuracy: 0.8162\n",
            "Epoch 19/500\n",
            "176/176 [==============================] - 0s 1ms/step - loss: 0.3930 - accuracy: 0.8180\n",
            "Epoch 20/500\n",
            "176/176 [==============================] - 0s 1ms/step - loss: 0.3923 - accuracy: 0.8156\n",
            "Epoch 21/500\n",
            "176/176 [==============================] - 0s 1ms/step - loss: 0.3908 - accuracy: 0.8174\n",
            "Epoch 22/500\n",
            "176/176 [==============================] - 0s 1ms/step - loss: 0.3909 - accuracy: 0.8162\n",
            "Epoch 23/500\n",
            "176/176 [==============================] - 0s 2ms/step - loss: 0.3897 - accuracy: 0.8201\n",
            "Epoch 24/500\n",
            "176/176 [==============================] - 0s 1ms/step - loss: 0.3900 - accuracy: 0.8160\n",
            "Epoch 25/500\n",
            "176/176 [==============================] - 0s 2ms/step - loss: 0.3891 - accuracy: 0.8187\n",
            "Epoch 26/500\n",
            "176/176 [==============================] - 0s 1ms/step - loss: 0.3883 - accuracy: 0.8197\n",
            "Epoch 27/500\n",
            "176/176 [==============================] - 0s 1ms/step - loss: 0.3867 - accuracy: 0.8215\n",
            "Epoch 28/500\n",
            "176/176 [==============================] - 0s 2ms/step - loss: 0.3866 - accuracy: 0.8197\n",
            "Epoch 29/500\n",
            "176/176 [==============================] - 0s 1ms/step - loss: 0.3855 - accuracy: 0.8185\n",
            "Epoch 30/500\n",
            "176/176 [==============================] - 0s 1ms/step - loss: 0.3850 - accuracy: 0.8210\n",
            "Epoch 31/500\n",
            "176/176 [==============================] - 0s 1ms/step - loss: 0.3852 - accuracy: 0.8235\n",
            "Epoch 32/500\n",
            "176/176 [==============================] - 0s 2ms/step - loss: 0.3839 - accuracy: 0.8210\n",
            "Epoch 33/500\n",
            "176/176 [==============================] - 0s 1ms/step - loss: 0.3839 - accuracy: 0.8190\n",
            "Epoch 34/500\n",
            "176/176 [==============================] - 0s 2ms/step - loss: 0.3825 - accuracy: 0.8222\n",
            "Epoch 35/500\n",
            "176/176 [==============================] - 0s 2ms/step - loss: 0.3809 - accuracy: 0.8222\n",
            "Epoch 36/500\n",
            "176/176 [==============================] - 0s 2ms/step - loss: 0.3815 - accuracy: 0.8242\n",
            "Epoch 37/500\n",
            "176/176 [==============================] - 0s 1ms/step - loss: 0.3804 - accuracy: 0.8228\n",
            "Epoch 38/500\n",
            "176/176 [==============================] - 0s 1ms/step - loss: 0.3800 - accuracy: 0.8240\n",
            "Epoch 39/500\n",
            "176/176 [==============================] - 0s 2ms/step - loss: 0.3794 - accuracy: 0.8219\n",
            "Epoch 40/500\n",
            "176/176 [==============================] - 0s 1ms/step - loss: 0.3791 - accuracy: 0.8231\n",
            "Epoch 41/500\n",
            "176/176 [==============================] - 0s 1ms/step - loss: 0.3778 - accuracy: 0.8224\n",
            "Epoch 42/500\n",
            "176/176 [==============================] - 0s 2ms/step - loss: 0.3774 - accuracy: 0.8199\n",
            "Epoch 43/500\n",
            "176/176 [==============================] - 0s 2ms/step - loss: 0.3766 - accuracy: 0.8263\n",
            "Epoch 44/500\n",
            "176/176 [==============================] - 0s 1ms/step - loss: 0.3761 - accuracy: 0.8281\n",
            "Epoch 45/500\n",
            "176/176 [==============================] - 0s 1ms/step - loss: 0.3759 - accuracy: 0.8224\n",
            "Epoch 46/500\n",
            "176/176 [==============================] - 0s 1ms/step - loss: 0.3755 - accuracy: 0.8238\n",
            "Epoch 47/500\n",
            "176/176 [==============================] - 0s 1ms/step - loss: 0.3743 - accuracy: 0.8244\n",
            "Epoch 48/500\n",
            "176/176 [==============================] - 0s 1ms/step - loss: 0.3744 - accuracy: 0.8228\n",
            "Epoch 49/500\n",
            "176/176 [==============================] - 0s 2ms/step - loss: 0.3742 - accuracy: 0.8256\n",
            "Epoch 50/500\n",
            "176/176 [==============================] - 0s 2ms/step - loss: 0.3737 - accuracy: 0.8254\n",
            "Epoch 51/500\n",
            "176/176 [==============================] - 0s 1ms/step - loss: 0.3726 - accuracy: 0.8254\n",
            "Epoch 52/500\n",
            "176/176 [==============================] - 0s 2ms/step - loss: 0.3717 - accuracy: 0.8249\n",
            "Epoch 53/500\n",
            "176/176 [==============================] - 0s 1ms/step - loss: 0.3722 - accuracy: 0.8247\n",
            "Epoch 54/500\n",
            "176/176 [==============================] - 0s 2ms/step - loss: 0.3718 - accuracy: 0.8270\n",
            "Epoch 55/500\n",
            "176/176 [==============================] - 0s 1ms/step - loss: 0.3702 - accuracy: 0.8286\n",
            "Epoch 56/500\n",
            "176/176 [==============================] - 0s 2ms/step - loss: 0.3721 - accuracy: 0.8244\n",
            "Epoch 57/500\n",
            "176/176 [==============================] - 0s 2ms/step - loss: 0.3701 - accuracy: 0.8290\n",
            "Epoch 58/500\n",
            "176/176 [==============================] - 0s 2ms/step - loss: 0.3694 - accuracy: 0.8288\n",
            "Epoch 59/500\n",
            "176/176 [==============================] - 0s 1ms/step - loss: 0.3685 - accuracy: 0.8297\n",
            "Epoch 60/500\n",
            "176/176 [==============================] - 0s 1ms/step - loss: 0.3679 - accuracy: 0.8267\n",
            "Epoch 61/500\n",
            "176/176 [==============================] - 0s 1ms/step - loss: 0.3685 - accuracy: 0.8274\n",
            "Epoch 62/500\n",
            "176/176 [==============================] - 0s 2ms/step - loss: 0.3677 - accuracy: 0.8268\n",
            "Epoch 63/500\n",
            "176/176 [==============================] - 0s 1ms/step - loss: 0.3670 - accuracy: 0.8281\n",
            "Epoch 64/500\n",
            "176/176 [==============================] - 0s 2ms/step - loss: 0.3666 - accuracy: 0.8295\n",
            "Epoch 65/500\n",
            "176/176 [==============================] - 0s 1ms/step - loss: 0.3666 - accuracy: 0.8311\n",
            "Epoch 66/500\n",
            "176/176 [==============================] - 0s 2ms/step - loss: 0.3657 - accuracy: 0.8292\n",
            "Epoch 67/500\n",
            "176/176 [==============================] - 0s 2ms/step - loss: 0.3665 - accuracy: 0.8288\n",
            "Epoch 68/500\n",
            "176/176 [==============================] - 0s 2ms/step - loss: 0.3654 - accuracy: 0.8286\n",
            "Epoch 69/500\n",
            "176/176 [==============================] - 0s 2ms/step - loss: 0.3653 - accuracy: 0.8293\n",
            "Epoch 70/500\n",
            "176/176 [==============================] - 0s 1ms/step - loss: 0.3649 - accuracy: 0.8288\n",
            "Epoch 71/500\n",
            "176/176 [==============================] - 0s 2ms/step - loss: 0.3646 - accuracy: 0.8299\n",
            "Epoch 72/500\n",
            "176/176 [==============================] - 0s 2ms/step - loss: 0.3644 - accuracy: 0.8295\n",
            "Epoch 73/500\n",
            "176/176 [==============================] - 0s 2ms/step - loss: 0.3642 - accuracy: 0.8313\n",
            "Epoch 74/500\n",
            "176/176 [==============================] - 0s 2ms/step - loss: 0.3634 - accuracy: 0.8300\n",
            "Epoch 75/500\n",
            "176/176 [==============================] - 0s 1ms/step - loss: 0.3625 - accuracy: 0.8327\n",
            "Epoch 76/500\n",
            "176/176 [==============================] - 0s 1ms/step - loss: 0.3623 - accuracy: 0.8325\n",
            "Epoch 77/500\n",
            "176/176 [==============================] - 0s 2ms/step - loss: 0.3624 - accuracy: 0.8297\n",
            "Epoch 78/500\n",
            "176/176 [==============================] - 0s 2ms/step - loss: 0.3624 - accuracy: 0.8283\n",
            "Epoch 79/500\n",
            "176/176 [==============================] - 0s 2ms/step - loss: 0.3615 - accuracy: 0.8322\n",
            "Epoch 80/500\n",
            "176/176 [==============================] - 0s 1ms/step - loss: 0.3619 - accuracy: 0.8345\n",
            "Epoch 81/500\n",
            "176/176 [==============================] - 0s 2ms/step - loss: 0.3611 - accuracy: 0.8309\n",
            "Epoch 82/500\n",
            "176/176 [==============================] - 0s 1ms/step - loss: 0.3617 - accuracy: 0.8315\n",
            "Epoch 83/500\n",
            "176/176 [==============================] - 0s 1ms/step - loss: 0.3601 - accuracy: 0.8324\n",
            "Epoch 84/500\n",
            "176/176 [==============================] - 0s 2ms/step - loss: 0.3590 - accuracy: 0.8347\n",
            "Epoch 85/500\n",
            "176/176 [==============================] - 0s 2ms/step - loss: 0.3610 - accuracy: 0.8322\n",
            "Epoch 86/500\n",
            "176/176 [==============================] - 0s 2ms/step - loss: 0.3587 - accuracy: 0.8338\n",
            "Epoch 87/500\n",
            "176/176 [==============================] - 0s 2ms/step - loss: 0.3592 - accuracy: 0.8318\n",
            "Epoch 88/500\n",
            "176/176 [==============================] - 0s 2ms/step - loss: 0.3589 - accuracy: 0.8325\n",
            "Epoch 89/500\n",
            "176/176 [==============================] - 0s 2ms/step - loss: 0.3588 - accuracy: 0.8354\n",
            "Epoch 90/500\n",
            "176/176 [==============================] - 0s 1ms/step - loss: 0.3575 - accuracy: 0.8363\n",
            "Epoch 91/500\n",
            "176/176 [==============================] - 0s 1ms/step - loss: 0.3580 - accuracy: 0.8345\n",
            "Epoch 92/500\n",
            "176/176 [==============================] - 0s 2ms/step - loss: 0.3587 - accuracy: 0.8350\n",
            "Epoch 93/500\n",
            "176/176 [==============================] - 0s 1ms/step - loss: 0.3574 - accuracy: 0.8361\n",
            "Epoch 94/500\n",
            "176/176 [==============================] - 0s 2ms/step - loss: 0.3571 - accuracy: 0.8340\n",
            "Epoch 95/500\n",
            "176/176 [==============================] - 0s 2ms/step - loss: 0.3572 - accuracy: 0.8334\n",
            "Epoch 96/500\n",
            "176/176 [==============================] - 0s 1ms/step - loss: 0.3562 - accuracy: 0.8334\n",
            "Epoch 97/500\n",
            "176/176 [==============================] - 0s 2ms/step - loss: 0.3572 - accuracy: 0.8325\n",
            "Epoch 98/500\n",
            "176/176 [==============================] - 0s 2ms/step - loss: 0.3553 - accuracy: 0.8350\n",
            "Epoch 99/500\n",
            "176/176 [==============================] - 0s 2ms/step - loss: 0.3574 - accuracy: 0.8345\n",
            "Epoch 100/500\n",
            "176/176 [==============================] - 0s 2ms/step - loss: 0.3561 - accuracy: 0.8341\n",
            "Epoch 101/500\n",
            "176/176 [==============================] - 0s 1ms/step - loss: 0.3557 - accuracy: 0.8368\n",
            "Epoch 102/500\n",
            "176/176 [==============================] - 0s 2ms/step - loss: 0.3538 - accuracy: 0.8329\n",
            "Epoch 103/500\n",
            "176/176 [==============================] - 0s 2ms/step - loss: 0.3551 - accuracy: 0.8350\n",
            "Epoch 104/500\n",
            "176/176 [==============================] - 0s 2ms/step - loss: 0.3536 - accuracy: 0.8340\n",
            "Epoch 105/500\n",
            "176/176 [==============================] - 0s 2ms/step - loss: 0.3543 - accuracy: 0.8334\n",
            "Epoch 106/500\n",
            "176/176 [==============================] - 0s 2ms/step - loss: 0.3533 - accuracy: 0.8348\n",
            "Epoch 107/500\n",
            "176/176 [==============================] - 0s 2ms/step - loss: 0.3535 - accuracy: 0.8327\n",
            "Epoch 108/500\n",
            "176/176 [==============================] - 0s 2ms/step - loss: 0.3530 - accuracy: 0.8377\n",
            "Epoch 109/500\n",
            "176/176 [==============================] - 0s 2ms/step - loss: 0.3531 - accuracy: 0.8370\n",
            "Epoch 110/500\n",
            "176/176 [==============================] - 0s 2ms/step - loss: 0.3526 - accuracy: 0.8350\n",
            "Epoch 111/500\n",
            "176/176 [==============================] - 0s 2ms/step - loss: 0.3527 - accuracy: 0.8345\n",
            "Epoch 112/500\n",
            "176/176 [==============================] - 0s 1ms/step - loss: 0.3519 - accuracy: 0.8380\n",
            "Epoch 113/500\n",
            "176/176 [==============================] - 0s 2ms/step - loss: 0.3515 - accuracy: 0.8368\n",
            "Epoch 114/500\n",
            "176/176 [==============================] - 0s 2ms/step - loss: 0.3508 - accuracy: 0.8379\n",
            "Epoch 115/500\n",
            "176/176 [==============================] - 0s 1ms/step - loss: 0.3507 - accuracy: 0.8402\n",
            "Epoch 116/500\n",
            "176/176 [==============================] - 0s 2ms/step - loss: 0.3521 - accuracy: 0.8364\n",
            "Epoch 117/500\n",
            "176/176 [==============================] - 0s 2ms/step - loss: 0.3512 - accuracy: 0.8366\n",
            "Epoch 118/500\n",
            "176/176 [==============================] - 0s 2ms/step - loss: 0.3503 - accuracy: 0.8386\n",
            "Epoch 119/500\n",
            "176/176 [==============================] - 0s 1ms/step - loss: 0.3493 - accuracy: 0.8391\n",
            "Epoch 120/500\n",
            "176/176 [==============================] - 0s 1ms/step - loss: 0.3496 - accuracy: 0.8375\n",
            "Epoch 121/500\n",
            "176/176 [==============================] - 0s 2ms/step - loss: 0.3506 - accuracy: 0.8380\n",
            "Epoch 122/500\n",
            "176/176 [==============================] - 0s 2ms/step - loss: 0.3495 - accuracy: 0.8373\n",
            "Epoch 123/500\n",
            "176/176 [==============================] - 0s 2ms/step - loss: 0.3500 - accuracy: 0.8386\n",
            "Epoch 124/500\n",
            "176/176 [==============================] - 0s 2ms/step - loss: 0.3476 - accuracy: 0.8384\n",
            "Epoch 125/500\n",
            "176/176 [==============================] - 0s 2ms/step - loss: 0.3491 - accuracy: 0.8366\n",
            "Epoch 126/500\n",
            "176/176 [==============================] - 0s 2ms/step - loss: 0.3505 - accuracy: 0.8393\n",
            "Epoch 127/500\n",
            "176/176 [==============================] - 0s 2ms/step - loss: 0.3483 - accuracy: 0.8388\n",
            "Epoch 128/500\n",
            "176/176 [==============================] - 0s 2ms/step - loss: 0.3479 - accuracy: 0.8380\n",
            "Epoch 129/500\n",
            "176/176 [==============================] - 0s 2ms/step - loss: 0.3471 - accuracy: 0.8373\n",
            "Epoch 130/500\n",
            "176/176 [==============================] - 0s 2ms/step - loss: 0.3489 - accuracy: 0.8364\n",
            "Epoch 131/500\n",
            "176/176 [==============================] - 0s 1ms/step - loss: 0.3470 - accuracy: 0.8409\n",
            "Epoch 132/500\n",
            "176/176 [==============================] - 0s 2ms/step - loss: 0.3474 - accuracy: 0.8404\n",
            "Epoch 133/500\n",
            "176/176 [==============================] - 0s 2ms/step - loss: 0.3466 - accuracy: 0.8373\n",
            "Epoch 134/500\n",
            "176/176 [==============================] - 0s 2ms/step - loss: 0.3455 - accuracy: 0.8416\n",
            "Epoch 135/500\n",
            "176/176 [==============================] - 0s 2ms/step - loss: 0.3470 - accuracy: 0.8402\n",
            "Epoch 136/500\n",
            "176/176 [==============================] - 0s 2ms/step - loss: 0.3464 - accuracy: 0.8395\n",
            "Epoch 137/500\n",
            "176/176 [==============================] - 0s 2ms/step - loss: 0.3455 - accuracy: 0.8409\n",
            "Epoch 138/500\n",
            "176/176 [==============================] - 0s 2ms/step - loss: 0.3457 - accuracy: 0.8412\n",
            "Epoch 139/500\n",
            "176/176 [==============================] - 0s 2ms/step - loss: 0.3445 - accuracy: 0.8409\n",
            "Epoch 140/500\n",
            "176/176 [==============================] - 0s 2ms/step - loss: 0.3444 - accuracy: 0.8418\n",
            "Epoch 141/500\n",
            "176/176 [==============================] - 0s 2ms/step - loss: 0.3451 - accuracy: 0.8389\n",
            "Epoch 142/500\n",
            "176/176 [==============================] - 0s 1ms/step - loss: 0.3467 - accuracy: 0.8402\n",
            "Epoch 143/500\n",
            "176/176 [==============================] - 0s 2ms/step - loss: 0.3444 - accuracy: 0.8439\n",
            "Epoch 144/500\n",
            "176/176 [==============================] - 0s 2ms/step - loss: 0.3467 - accuracy: 0.8380\n",
            "Epoch 145/500\n",
            "176/176 [==============================] - 0s 2ms/step - loss: 0.3445 - accuracy: 0.8427\n",
            "Epoch 146/500\n",
            "176/176 [==============================] - 0s 2ms/step - loss: 0.3438 - accuracy: 0.8423\n",
            "Epoch 147/500\n",
            "176/176 [==============================] - 0s 2ms/step - loss: 0.3426 - accuracy: 0.8409\n",
            "Epoch 148/500\n",
            "176/176 [==============================] - 0s 2ms/step - loss: 0.3449 - accuracy: 0.8398\n",
            "Epoch 149/500\n",
            "176/176 [==============================] - 0s 2ms/step - loss: 0.3432 - accuracy: 0.8418\n",
            "Epoch 150/500\n",
            "176/176 [==============================] - 0s 2ms/step - loss: 0.3423 - accuracy: 0.8423\n",
            "Epoch 151/500\n",
            "176/176 [==============================] - 0s 2ms/step - loss: 0.3438 - accuracy: 0.8423\n",
            "Epoch 152/500\n",
            "176/176 [==============================] - 0s 2ms/step - loss: 0.3423 - accuracy: 0.8418\n",
            "Epoch 153/500\n",
            "176/176 [==============================] - 0s 2ms/step - loss: 0.3428 - accuracy: 0.8427\n",
            "Epoch 154/500\n",
            "176/176 [==============================] - 0s 2ms/step - loss: 0.3424 - accuracy: 0.8428\n",
            "Epoch 155/500\n",
            "176/176 [==============================] - 0s 2ms/step - loss: 0.3415 - accuracy: 0.8414\n",
            "Epoch 156/500\n",
            "176/176 [==============================] - 0s 2ms/step - loss: 0.3418 - accuracy: 0.8439\n",
            "Epoch 157/500\n",
            "176/176 [==============================] - 0s 2ms/step - loss: 0.3410 - accuracy: 0.8436\n",
            "Epoch 158/500\n",
            "176/176 [==============================] - 0s 2ms/step - loss: 0.3401 - accuracy: 0.8453\n",
            "Epoch 159/500\n",
            "176/176 [==============================] - 0s 2ms/step - loss: 0.3409 - accuracy: 0.8439\n",
            "Epoch 160/500\n",
            "176/176 [==============================] - 0s 2ms/step - loss: 0.3411 - accuracy: 0.8436\n",
            "Epoch 161/500\n",
            "176/176 [==============================] - 0s 2ms/step - loss: 0.3403 - accuracy: 0.8432\n",
            "Epoch 162/500\n",
            "176/176 [==============================] - 0s 2ms/step - loss: 0.3403 - accuracy: 0.8436\n",
            "Epoch 163/500\n",
            "176/176 [==============================] - 0s 2ms/step - loss: 0.3411 - accuracy: 0.8434\n",
            "Epoch 164/500\n",
            "176/176 [==============================] - 0s 2ms/step - loss: 0.3386 - accuracy: 0.8450\n",
            "Epoch 165/500\n",
            "176/176 [==============================] - 0s 2ms/step - loss: 0.3393 - accuracy: 0.8427\n",
            "Epoch 166/500\n",
            "176/176 [==============================] - 0s 2ms/step - loss: 0.3389 - accuracy: 0.8409\n",
            "Epoch 167/500\n",
            "176/176 [==============================] - 0s 2ms/step - loss: 0.3393 - accuracy: 0.8459\n",
            "Epoch 168/500\n",
            "176/176 [==============================] - 0s 2ms/step - loss: 0.3385 - accuracy: 0.8418\n",
            "Epoch 169/500\n",
            "176/176 [==============================] - 0s 2ms/step - loss: 0.3389 - accuracy: 0.8444\n",
            "Epoch 170/500\n",
            "176/176 [==============================] - 0s 2ms/step - loss: 0.3384 - accuracy: 0.8457\n",
            "Epoch 171/500\n",
            "176/176 [==============================] - 0s 2ms/step - loss: 0.3385 - accuracy: 0.8446\n",
            "Epoch 172/500\n",
            "176/176 [==============================] - 0s 2ms/step - loss: 0.3374 - accuracy: 0.8460\n",
            "Epoch 173/500\n",
            "176/176 [==============================] - 0s 2ms/step - loss: 0.3379 - accuracy: 0.8446\n",
            "Epoch 174/500\n",
            "176/176 [==============================] - 0s 2ms/step - loss: 0.3375 - accuracy: 0.8432\n",
            "Epoch 175/500\n",
            "176/176 [==============================] - 0s 2ms/step - loss: 0.3362 - accuracy: 0.8457\n",
            "Epoch 176/500\n",
            "176/176 [==============================] - 0s 2ms/step - loss: 0.3373 - accuracy: 0.8443\n",
            "Epoch 177/500\n",
            "176/176 [==============================] - 0s 2ms/step - loss: 0.3367 - accuracy: 0.8464\n",
            "Epoch 178/500\n",
            "176/176 [==============================] - 0s 2ms/step - loss: 0.3368 - accuracy: 0.8444\n",
            "Epoch 179/500\n",
            "176/176 [==============================] - 0s 2ms/step - loss: 0.3364 - accuracy: 0.8430\n",
            "Epoch 180/500\n",
            "176/176 [==============================] - 0s 2ms/step - loss: 0.3361 - accuracy: 0.8478\n",
            "Epoch 181/500\n",
            "176/176 [==============================] - 0s 2ms/step - loss: 0.3368 - accuracy: 0.8427\n",
            "Epoch 182/500\n",
            "176/176 [==============================] - 0s 2ms/step - loss: 0.3364 - accuracy: 0.8450\n",
            "Epoch 183/500\n",
            "176/176 [==============================] - 0s 2ms/step - loss: 0.3362 - accuracy: 0.8446\n",
            "Epoch 184/500\n",
            "176/176 [==============================] - 0s 1ms/step - loss: 0.3359 - accuracy: 0.8452\n",
            "Epoch 185/500\n",
            "176/176 [==============================] - 0s 2ms/step - loss: 0.3357 - accuracy: 0.8473\n",
            "Epoch 186/500\n",
            "176/176 [==============================] - 0s 2ms/step - loss: 0.3360 - accuracy: 0.8446\n",
            "Epoch 187/500\n",
            "176/176 [==============================] - 0s 2ms/step - loss: 0.3356 - accuracy: 0.8437\n",
            "Epoch 188/500\n",
            "176/176 [==============================] - 0s 2ms/step - loss: 0.3354 - accuracy: 0.8494\n",
            "Epoch 189/500\n",
            "176/176 [==============================] - 0s 2ms/step - loss: 0.3350 - accuracy: 0.8430\n",
            "Epoch 190/500\n",
            "176/176 [==============================] - 0s 2ms/step - loss: 0.3332 - accuracy: 0.8450\n",
            "Epoch 191/500\n",
            "176/176 [==============================] - 0s 2ms/step - loss: 0.3341 - accuracy: 0.8491\n",
            "Epoch 192/500\n",
            "176/176 [==============================] - 0s 2ms/step - loss: 0.3338 - accuracy: 0.8471\n",
            "Epoch 193/500\n",
            "176/176 [==============================] - 0s 2ms/step - loss: 0.3332 - accuracy: 0.8480\n",
            "Epoch 194/500\n",
            "176/176 [==============================] - 0s 2ms/step - loss: 0.3331 - accuracy: 0.8439\n",
            "Epoch 195/500\n",
            "176/176 [==============================] - 0s 2ms/step - loss: 0.3350 - accuracy: 0.8459\n",
            "Epoch 196/500\n",
            "176/176 [==============================] - 0s 2ms/step - loss: 0.3322 - accuracy: 0.8464\n",
            "Epoch 197/500\n",
            "176/176 [==============================] - 0s 1ms/step - loss: 0.3337 - accuracy: 0.8448\n",
            "Epoch 198/500\n",
            "176/176 [==============================] - 0s 2ms/step - loss: 0.3327 - accuracy: 0.8464\n",
            "Epoch 199/500\n",
            "176/176 [==============================] - 0s 2ms/step - loss: 0.3329 - accuracy: 0.8473\n",
            "Epoch 200/500\n",
            "176/176 [==============================] - 0s 2ms/step - loss: 0.3316 - accuracy: 0.8484\n",
            "Epoch 201/500\n",
            "176/176 [==============================] - 0s 2ms/step - loss: 0.3320 - accuracy: 0.8464\n",
            "Epoch 202/500\n",
            "176/176 [==============================] - 0s 2ms/step - loss: 0.3329 - accuracy: 0.8468\n",
            "Epoch 203/500\n",
            "176/176 [==============================] - 0s 2ms/step - loss: 0.3323 - accuracy: 0.8496\n",
            "Epoch 204/500\n",
            "176/176 [==============================] - 0s 2ms/step - loss: 0.3322 - accuracy: 0.8480\n",
            "Epoch 205/500\n",
            "176/176 [==============================] - 0s 2ms/step - loss: 0.3315 - accuracy: 0.8484\n",
            "Epoch 206/500\n",
            "176/176 [==============================] - 0s 2ms/step - loss: 0.3313 - accuracy: 0.8448\n",
            "Epoch 207/500\n",
            "176/176 [==============================] - 0s 2ms/step - loss: 0.3311 - accuracy: 0.8489\n",
            "Epoch 208/500\n",
            "176/176 [==============================] - 0s 2ms/step - loss: 0.3291 - accuracy: 0.8514\n",
            "Epoch 209/500\n",
            "176/176 [==============================] - 0s 2ms/step - loss: 0.3304 - accuracy: 0.8455\n",
            "Epoch 210/500\n",
            "176/176 [==============================] - 0s 2ms/step - loss: 0.3297 - accuracy: 0.8452\n",
            "Epoch 211/500\n",
            "176/176 [==============================] - 0s 2ms/step - loss: 0.3298 - accuracy: 0.8508\n",
            "Epoch 212/500\n",
            "176/176 [==============================] - 0s 2ms/step - loss: 0.3298 - accuracy: 0.8487\n",
            "Epoch 213/500\n",
            "176/176 [==============================] - 0s 2ms/step - loss: 0.3304 - accuracy: 0.8453\n",
            "Epoch 214/500\n",
            "176/176 [==============================] - 0s 2ms/step - loss: 0.3293 - accuracy: 0.8462\n",
            "Epoch 215/500\n",
            "176/176 [==============================] - 0s 2ms/step - loss: 0.3299 - accuracy: 0.8489\n",
            "Epoch 216/500\n",
            "176/176 [==============================] - 0s 2ms/step - loss: 0.3299 - accuracy: 0.8482\n",
            "Epoch 217/500\n",
            "176/176 [==============================] - 0s 2ms/step - loss: 0.3296 - accuracy: 0.8532\n",
            "Epoch 218/500\n",
            "176/176 [==============================] - 0s 2ms/step - loss: 0.3292 - accuracy: 0.8485\n",
            "Epoch 219/500\n",
            "176/176 [==============================] - 0s 2ms/step - loss: 0.3281 - accuracy: 0.8521\n",
            "Epoch 220/500\n",
            "176/176 [==============================] - 0s 2ms/step - loss: 0.3278 - accuracy: 0.8505\n",
            "Epoch 221/500\n",
            "176/176 [==============================] - 0s 2ms/step - loss: 0.3285 - accuracy: 0.8510\n",
            "Epoch 222/500\n",
            "176/176 [==============================] - 0s 2ms/step - loss: 0.3290 - accuracy: 0.8460\n",
            "Epoch 223/500\n",
            "176/176 [==============================] - 0s 2ms/step - loss: 0.3275 - accuracy: 0.8519\n",
            "Epoch 224/500\n",
            "176/176 [==============================] - 0s 2ms/step - loss: 0.3278 - accuracy: 0.8492\n",
            "Epoch 225/500\n",
            "176/176 [==============================] - 0s 2ms/step - loss: 0.3285 - accuracy: 0.8496\n",
            "Epoch 226/500\n",
            "176/176 [==============================] - 0s 2ms/step - loss: 0.3272 - accuracy: 0.8516\n",
            "Epoch 227/500\n",
            "176/176 [==============================] - 0s 2ms/step - loss: 0.3271 - accuracy: 0.8498\n",
            "Epoch 228/500\n",
            "176/176 [==============================] - 0s 2ms/step - loss: 0.3261 - accuracy: 0.8519\n",
            "Epoch 229/500\n",
            "176/176 [==============================] - 0s 2ms/step - loss: 0.3268 - accuracy: 0.8489\n",
            "Epoch 230/500\n",
            "176/176 [==============================] - 0s 2ms/step - loss: 0.3270 - accuracy: 0.8523\n",
            "Epoch 231/500\n",
            "176/176 [==============================] - 0s 2ms/step - loss: 0.3258 - accuracy: 0.8501\n",
            "Epoch 232/500\n",
            "176/176 [==============================] - 0s 2ms/step - loss: 0.3257 - accuracy: 0.8492\n",
            "Epoch 233/500\n",
            "176/176 [==============================] - 0s 2ms/step - loss: 0.3263 - accuracy: 0.8517\n",
            "Epoch 234/500\n",
            "176/176 [==============================] - 0s 2ms/step - loss: 0.3268 - accuracy: 0.8471\n",
            "Epoch 235/500\n",
            "176/176 [==============================] - 0s 2ms/step - loss: 0.3262 - accuracy: 0.8516\n",
            "Epoch 236/500\n",
            "176/176 [==============================] - 0s 2ms/step - loss: 0.3258 - accuracy: 0.8507\n",
            "Epoch 237/500\n",
            "176/176 [==============================] - 0s 2ms/step - loss: 0.3269 - accuracy: 0.8508\n",
            "Epoch 238/500\n",
            "176/176 [==============================] - 0s 2ms/step - loss: 0.3257 - accuracy: 0.8507\n",
            "Epoch 239/500\n",
            "176/176 [==============================] - 0s 2ms/step - loss: 0.3254 - accuracy: 0.8500\n",
            "Epoch 240/500\n",
            "176/176 [==============================] - 0s 2ms/step - loss: 0.3248 - accuracy: 0.8505\n",
            "Epoch 241/500\n",
            "176/176 [==============================] - 0s 2ms/step - loss: 0.3254 - accuracy: 0.8482\n",
            "Epoch 242/500\n",
            "176/176 [==============================] - 0s 2ms/step - loss: 0.3242 - accuracy: 0.8533\n",
            "Epoch 243/500\n",
            "176/176 [==============================] - 0s 2ms/step - loss: 0.3259 - accuracy: 0.8505\n",
            "Epoch 244/500\n",
            "176/176 [==============================] - 0s 2ms/step - loss: 0.3250 - accuracy: 0.8524\n",
            "Epoch 245/500\n",
            "176/176 [==============================] - 0s 2ms/step - loss: 0.3252 - accuracy: 0.8492\n",
            "Epoch 246/500\n",
            "176/176 [==============================] - 0s 2ms/step - loss: 0.3249 - accuracy: 0.8537\n",
            "Epoch 247/500\n",
            "176/176 [==============================] - 0s 2ms/step - loss: 0.3237 - accuracy: 0.8496\n",
            "Epoch 248/500\n",
            "176/176 [==============================] - 0s 2ms/step - loss: 0.3229 - accuracy: 0.8526\n",
            "Epoch 249/500\n",
            "176/176 [==============================] - 0s 2ms/step - loss: 0.3243 - accuracy: 0.8532\n",
            "Epoch 250/500\n",
            "176/176 [==============================] - 0s 2ms/step - loss: 0.3244 - accuracy: 0.8500\n",
            "Epoch 251/500\n",
            "176/176 [==============================] - 0s 2ms/step - loss: 0.3232 - accuracy: 0.8533\n",
            "Epoch 252/500\n",
            "176/176 [==============================] - 0s 2ms/step - loss: 0.3236 - accuracy: 0.8523\n",
            "Epoch 253/500\n",
            "176/176 [==============================] - 0s 2ms/step - loss: 0.3226 - accuracy: 0.8498\n",
            "Epoch 254/500\n",
            "176/176 [==============================] - 0s 2ms/step - loss: 0.3244 - accuracy: 0.8505\n",
            "Epoch 255/500\n",
            "176/176 [==============================] - 0s 2ms/step - loss: 0.3221 - accuracy: 0.8516\n",
            "Epoch 256/500\n",
            "176/176 [==============================] - 0s 2ms/step - loss: 0.3244 - accuracy: 0.8498\n",
            "Epoch 257/500\n",
            "176/176 [==============================] - 0s 2ms/step - loss: 0.3219 - accuracy: 0.8532\n",
            "Epoch 258/500\n",
            "176/176 [==============================] - 0s 2ms/step - loss: 0.3227 - accuracy: 0.8524\n",
            "Epoch 259/500\n",
            "176/176 [==============================] - 0s 2ms/step - loss: 0.3235 - accuracy: 0.8517\n",
            "Epoch 260/500\n",
            "176/176 [==============================] - 0s 2ms/step - loss: 0.3228 - accuracy: 0.8510\n",
            "Epoch 261/500\n",
            "176/176 [==============================] - 0s 2ms/step - loss: 0.3226 - accuracy: 0.8496\n",
            "Epoch 262/500\n",
            "176/176 [==============================] - 0s 2ms/step - loss: 0.3235 - accuracy: 0.8519\n",
            "Epoch 263/500\n",
            "176/176 [==============================] - 0s 2ms/step - loss: 0.3222 - accuracy: 0.8503\n",
            "Epoch 264/500\n",
            "176/176 [==============================] - 0s 2ms/step - loss: 0.3217 - accuracy: 0.8500\n",
            "Epoch 265/500\n",
            "176/176 [==============================] - 0s 2ms/step - loss: 0.3212 - accuracy: 0.8539\n",
            "Epoch 266/500\n",
            "176/176 [==============================] - 0s 2ms/step - loss: 0.3213 - accuracy: 0.8560\n",
            "Epoch 267/500\n",
            "176/176 [==============================] - 0s 2ms/step - loss: 0.3201 - accuracy: 0.8523\n",
            "Epoch 268/500\n",
            "176/176 [==============================] - 0s 2ms/step - loss: 0.3216 - accuracy: 0.8528\n",
            "Epoch 269/500\n",
            "176/176 [==============================] - 0s 2ms/step - loss: 0.3208 - accuracy: 0.8551\n",
            "Epoch 270/500\n",
            "176/176 [==============================] - 0s 2ms/step - loss: 0.3211 - accuracy: 0.8485\n",
            "Epoch 271/500\n",
            "176/176 [==============================] - 0s 2ms/step - loss: 0.3206 - accuracy: 0.8539\n",
            "Epoch 272/500\n",
            "176/176 [==============================] - 0s 2ms/step - loss: 0.3200 - accuracy: 0.8560\n",
            "Epoch 273/500\n",
            "176/176 [==============================] - 0s 2ms/step - loss: 0.3222 - accuracy: 0.8514\n",
            "Epoch 274/500\n",
            "176/176 [==============================] - 0s 2ms/step - loss: 0.3193 - accuracy: 0.8546\n",
            "Epoch 275/500\n",
            "176/176 [==============================] - 0s 2ms/step - loss: 0.3192 - accuracy: 0.8574\n",
            "Epoch 276/500\n",
            "176/176 [==============================] - 0s 2ms/step - loss: 0.3202 - accuracy: 0.8521\n",
            "Epoch 277/500\n",
            "176/176 [==============================] - 0s 2ms/step - loss: 0.3203 - accuracy: 0.8562\n",
            "Epoch 278/500\n",
            "176/176 [==============================] - 0s 2ms/step - loss: 0.3202 - accuracy: 0.8565\n",
            "Epoch 279/500\n",
            "176/176 [==============================] - 0s 2ms/step - loss: 0.3208 - accuracy: 0.8551\n",
            "Epoch 280/500\n",
            "176/176 [==============================] - 0s 2ms/step - loss: 0.3209 - accuracy: 0.8551\n",
            "Epoch 281/500\n",
            "176/176 [==============================] - 0s 2ms/step - loss: 0.3183 - accuracy: 0.8548\n",
            "Epoch 282/500\n",
            "176/176 [==============================] - 0s 2ms/step - loss: 0.3201 - accuracy: 0.8521\n",
            "Epoch 283/500\n",
            "176/176 [==============================] - 0s 2ms/step - loss: 0.3191 - accuracy: 0.8551\n",
            "Epoch 284/500\n",
            "176/176 [==============================] - 0s 2ms/step - loss: 0.3191 - accuracy: 0.8535\n",
            "Epoch 285/500\n",
            "176/176 [==============================] - 0s 2ms/step - loss: 0.3181 - accuracy: 0.8544\n",
            "Epoch 286/500\n",
            "176/176 [==============================] - 0s 2ms/step - loss: 0.3188 - accuracy: 0.8523\n",
            "Epoch 287/500\n",
            "176/176 [==============================] - 0s 2ms/step - loss: 0.3207 - accuracy: 0.8523\n",
            "Epoch 288/500\n",
            "176/176 [==============================] - 0s 2ms/step - loss: 0.3185 - accuracy: 0.8542\n",
            "Epoch 289/500\n",
            "176/176 [==============================] - 0s 2ms/step - loss: 0.3190 - accuracy: 0.8574\n",
            "Epoch 290/500\n",
            "176/176 [==============================] - 0s 2ms/step - loss: 0.3192 - accuracy: 0.8517\n",
            "Epoch 291/500\n",
            "176/176 [==============================] - 0s 2ms/step - loss: 0.3191 - accuracy: 0.8556\n",
            "Epoch 292/500\n",
            "176/176 [==============================] - 0s 2ms/step - loss: 0.3182 - accuracy: 0.8556\n",
            "Epoch 293/500\n",
            "176/176 [==============================] - 0s 2ms/step - loss: 0.3196 - accuracy: 0.8537\n",
            "Epoch 294/500\n",
            "176/176 [==============================] - 0s 2ms/step - loss: 0.3191 - accuracy: 0.8562\n",
            "Epoch 295/500\n",
            "176/176 [==============================] - 0s 2ms/step - loss: 0.3194 - accuracy: 0.8587\n",
            "Epoch 296/500\n",
            "176/176 [==============================] - 0s 2ms/step - loss: 0.3186 - accuracy: 0.8546\n",
            "Epoch 297/500\n",
            "176/176 [==============================] - 0s 2ms/step - loss: 0.3179 - accuracy: 0.8546\n",
            "Epoch 298/500\n",
            "176/176 [==============================] - 0s 2ms/step - loss: 0.3178 - accuracy: 0.8581\n",
            "Epoch 299/500\n",
            "176/176 [==============================] - 0s 2ms/step - loss: 0.3176 - accuracy: 0.8549\n",
            "Epoch 300/500\n",
            "176/176 [==============================] - 0s 2ms/step - loss: 0.3160 - accuracy: 0.8549\n",
            "Epoch 301/500\n",
            "176/176 [==============================] - 0s 2ms/step - loss: 0.3192 - accuracy: 0.8516\n",
            "Epoch 302/500\n",
            "176/176 [==============================] - 0s 2ms/step - loss: 0.3166 - accuracy: 0.8555\n",
            "Epoch 303/500\n",
            "176/176 [==============================] - 0s 2ms/step - loss: 0.3177 - accuracy: 0.8565\n",
            "Epoch 304/500\n",
            "176/176 [==============================] - 0s 2ms/step - loss: 0.3176 - accuracy: 0.8564\n",
            "Epoch 305/500\n",
            "176/176 [==============================] - 0s 2ms/step - loss: 0.3179 - accuracy: 0.8549\n",
            "Epoch 306/500\n",
            "176/176 [==============================] - 0s 2ms/step - loss: 0.3168 - accuracy: 0.8565\n",
            "Epoch 307/500\n",
            "176/176 [==============================] - 0s 2ms/step - loss: 0.3159 - accuracy: 0.8556\n",
            "Epoch 308/500\n",
            "176/176 [==============================] - 0s 2ms/step - loss: 0.3178 - accuracy: 0.8537\n",
            "Epoch 309/500\n",
            "176/176 [==============================] - 0s 2ms/step - loss: 0.3173 - accuracy: 0.8535\n",
            "Epoch 310/500\n",
            "176/176 [==============================] - 0s 2ms/step - loss: 0.3169 - accuracy: 0.8564\n",
            "Epoch 311/500\n",
            "176/176 [==============================] - 0s 2ms/step - loss: 0.3170 - accuracy: 0.8540\n",
            "Epoch 312/500\n",
            "176/176 [==============================] - 0s 2ms/step - loss: 0.3162 - accuracy: 0.8583\n",
            "Epoch 313/500\n",
            "176/176 [==============================] - 0s 2ms/step - loss: 0.3156 - accuracy: 0.8540\n",
            "Epoch 314/500\n",
            "176/176 [==============================] - 0s 2ms/step - loss: 0.3167 - accuracy: 0.8565\n",
            "Epoch 315/500\n",
            "176/176 [==============================] - 0s 2ms/step - loss: 0.3150 - accuracy: 0.8574\n",
            "Epoch 316/500\n",
            "176/176 [==============================] - 0s 2ms/step - loss: 0.3164 - accuracy: 0.8532\n",
            "Epoch 317/500\n",
            "176/176 [==============================] - 0s 2ms/step - loss: 0.3157 - accuracy: 0.8544\n",
            "Epoch 318/500\n",
            "176/176 [==============================] - 0s 2ms/step - loss: 0.3155 - accuracy: 0.8553\n",
            "Epoch 319/500\n",
            "176/176 [==============================] - 0s 2ms/step - loss: 0.3158 - accuracy: 0.8564\n",
            "Epoch 320/500\n",
            "176/176 [==============================] - 0s 2ms/step - loss: 0.3151 - accuracy: 0.8558\n",
            "Epoch 321/500\n",
            "176/176 [==============================] - 0s 2ms/step - loss: 0.3162 - accuracy: 0.8571\n",
            "Epoch 322/500\n",
            "176/176 [==============================] - 0s 2ms/step - loss: 0.3156 - accuracy: 0.8560\n",
            "Epoch 323/500\n",
            "176/176 [==============================] - 0s 2ms/step - loss: 0.3160 - accuracy: 0.8555\n",
            "Epoch 324/500\n",
            "176/176 [==============================] - 0s 2ms/step - loss: 0.3152 - accuracy: 0.8514\n",
            "Epoch 325/500\n",
            "176/176 [==============================] - 0s 2ms/step - loss: 0.3154 - accuracy: 0.8583\n",
            "Epoch 326/500\n",
            "176/176 [==============================] - 0s 2ms/step - loss: 0.3143 - accuracy: 0.8549\n",
            "Epoch 327/500\n",
            "176/176 [==============================] - 0s 2ms/step - loss: 0.3154 - accuracy: 0.8580\n",
            "Epoch 328/500\n",
            "176/176 [==============================] - 0s 2ms/step - loss: 0.3151 - accuracy: 0.8571\n",
            "Epoch 329/500\n",
            "176/176 [==============================] - 0s 2ms/step - loss: 0.3149 - accuracy: 0.8583\n",
            "Epoch 330/500\n",
            "176/176 [==============================] - 0s 2ms/step - loss: 0.3141 - accuracy: 0.8588\n",
            "Epoch 331/500\n",
            "176/176 [==============================] - 0s 2ms/step - loss: 0.3143 - accuracy: 0.8578\n",
            "Epoch 332/500\n",
            "176/176 [==============================] - 0s 2ms/step - loss: 0.3162 - accuracy: 0.8581\n",
            "Epoch 333/500\n",
            "176/176 [==============================] - 0s 2ms/step - loss: 0.3145 - accuracy: 0.8590\n",
            "Epoch 334/500\n",
            "176/176 [==============================] - 0s 2ms/step - loss: 0.3149 - accuracy: 0.8549\n",
            "Epoch 335/500\n",
            "176/176 [==============================] - 0s 2ms/step - loss: 0.3144 - accuracy: 0.8574\n",
            "Epoch 336/500\n",
            "176/176 [==============================] - 0s 2ms/step - loss: 0.3143 - accuracy: 0.8562\n",
            "Epoch 337/500\n",
            "176/176 [==============================] - 0s 2ms/step - loss: 0.3140 - accuracy: 0.8564\n",
            "Epoch 338/500\n",
            "176/176 [==============================] - 0s 2ms/step - loss: 0.3137 - accuracy: 0.8553\n",
            "Epoch 339/500\n",
            "176/176 [==============================] - 0s 2ms/step - loss: 0.3135 - accuracy: 0.8564\n",
            "Epoch 340/500\n",
            "176/176 [==============================] - 0s 2ms/step - loss: 0.3145 - accuracy: 0.8560\n",
            "Epoch 341/500\n",
            "176/176 [==============================] - 0s 2ms/step - loss: 0.3140 - accuracy: 0.8553\n",
            "Epoch 342/500\n",
            "176/176 [==============================] - 0s 2ms/step - loss: 0.3136 - accuracy: 0.8592\n",
            "Epoch 343/500\n",
            "176/176 [==============================] - 0s 2ms/step - loss: 0.3142 - accuracy: 0.8567\n",
            "Epoch 344/500\n",
            "176/176 [==============================] - 0s 2ms/step - loss: 0.3131 - accuracy: 0.8562\n",
            "Epoch 345/500\n",
            "176/176 [==============================] - 0s 2ms/step - loss: 0.3140 - accuracy: 0.8585\n",
            "Epoch 346/500\n",
            "176/176 [==============================] - 0s 2ms/step - loss: 0.3138 - accuracy: 0.8581\n",
            "Epoch 347/500\n",
            "176/176 [==============================] - 0s 2ms/step - loss: 0.3129 - accuracy: 0.8572\n",
            "Epoch 348/500\n",
            "176/176 [==============================] - 0s 2ms/step - loss: 0.3120 - accuracy: 0.8622\n",
            "Epoch 349/500\n",
            "176/176 [==============================] - 0s 2ms/step - loss: 0.3128 - accuracy: 0.8583\n",
            "Epoch 350/500\n",
            "176/176 [==============================] - 0s 2ms/step - loss: 0.3147 - accuracy: 0.8548\n",
            "Epoch 351/500\n",
            "176/176 [==============================] - 0s 2ms/step - loss: 0.3131 - accuracy: 0.8581\n",
            "Epoch 352/500\n",
            "176/176 [==============================] - 0s 2ms/step - loss: 0.3131 - accuracy: 0.8596\n",
            "Epoch 353/500\n",
            "176/176 [==============================] - 0s 2ms/step - loss: 0.3133 - accuracy: 0.8610\n",
            "Epoch 354/500\n",
            "176/176 [==============================] - 0s 2ms/step - loss: 0.3125 - accuracy: 0.8558\n",
            "Epoch 355/500\n",
            "176/176 [==============================] - 0s 2ms/step - loss: 0.3122 - accuracy: 0.8581\n",
            "Epoch 356/500\n",
            "176/176 [==============================] - 0s 2ms/step - loss: 0.3128 - accuracy: 0.8578\n",
            "Epoch 357/500\n",
            "176/176 [==============================] - 0s 2ms/step - loss: 0.3126 - accuracy: 0.8580\n",
            "Epoch 358/500\n",
            "176/176 [==============================] - 0s 2ms/step - loss: 0.3123 - accuracy: 0.8572\n",
            "Epoch 359/500\n",
            "176/176 [==============================] - 0s 2ms/step - loss: 0.3131 - accuracy: 0.8567\n",
            "Epoch 360/500\n",
            "176/176 [==============================] - 0s 2ms/step - loss: 0.3137 - accuracy: 0.8580\n",
            "Epoch 361/500\n",
            "176/176 [==============================] - 0s 2ms/step - loss: 0.3125 - accuracy: 0.8574\n",
            "Epoch 362/500\n",
            "176/176 [==============================] - 0s 2ms/step - loss: 0.3137 - accuracy: 0.8567\n",
            "Epoch 363/500\n",
            "176/176 [==============================] - 0s 2ms/step - loss: 0.3115 - accuracy: 0.8606\n",
            "Epoch 364/500\n",
            "176/176 [==============================] - 0s 2ms/step - loss: 0.3113 - accuracy: 0.8594\n",
            "Epoch 365/500\n",
            "176/176 [==============================] - 0s 2ms/step - loss: 0.3113 - accuracy: 0.8578\n",
            "Epoch 366/500\n",
            "176/176 [==============================] - 0s 2ms/step - loss: 0.3120 - accuracy: 0.8571\n",
            "Epoch 367/500\n",
            "176/176 [==============================] - 0s 2ms/step - loss: 0.3121 - accuracy: 0.8592\n",
            "Epoch 368/500\n",
            "176/176 [==============================] - 0s 2ms/step - loss: 0.3125 - accuracy: 0.8592\n",
            "Epoch 369/500\n",
            "176/176 [==============================] - 0s 2ms/step - loss: 0.3110 - accuracy: 0.8599\n",
            "Epoch 370/500\n",
            "176/176 [==============================] - 0s 2ms/step - loss: 0.3123 - accuracy: 0.8588\n",
            "Epoch 371/500\n",
            "176/176 [==============================] - 0s 2ms/step - loss: 0.3117 - accuracy: 0.8585\n",
            "Epoch 372/500\n",
            "176/176 [==============================] - 0s 2ms/step - loss: 0.3115 - accuracy: 0.8574\n",
            "Epoch 373/500\n",
            "176/176 [==============================] - 0s 2ms/step - loss: 0.3115 - accuracy: 0.8574\n",
            "Epoch 374/500\n",
            "176/176 [==============================] - 0s 2ms/step - loss: 0.3119 - accuracy: 0.8587\n",
            "Epoch 375/500\n",
            "176/176 [==============================] - 0s 2ms/step - loss: 0.3131 - accuracy: 0.8599\n",
            "Epoch 376/500\n",
            "176/176 [==============================] - 0s 2ms/step - loss: 0.3114 - accuracy: 0.8569\n",
            "Epoch 377/500\n",
            "176/176 [==============================] - 0s 2ms/step - loss: 0.3123 - accuracy: 0.8585\n",
            "Epoch 378/500\n",
            "176/176 [==============================] - 0s 2ms/step - loss: 0.3110 - accuracy: 0.8578\n",
            "Epoch 379/500\n",
            "176/176 [==============================] - 0s 2ms/step - loss: 0.3121 - accuracy: 0.8555\n",
            "Epoch 380/500\n",
            "176/176 [==============================] - 0s 2ms/step - loss: 0.3098 - accuracy: 0.8613\n",
            "Epoch 381/500\n",
            "176/176 [==============================] - 0s 2ms/step - loss: 0.3114 - accuracy: 0.8574\n",
            "Epoch 382/500\n",
            "176/176 [==============================] - 0s 2ms/step - loss: 0.3110 - accuracy: 0.8590\n",
            "Epoch 383/500\n",
            "176/176 [==============================] - 0s 2ms/step - loss: 0.3113 - accuracy: 0.8583\n",
            "Epoch 384/500\n",
            "176/176 [==============================] - 0s 2ms/step - loss: 0.3106 - accuracy: 0.8558\n",
            "Epoch 385/500\n",
            "176/176 [==============================] - 0s 2ms/step - loss: 0.3100 - accuracy: 0.8576\n",
            "Epoch 386/500\n",
            "176/176 [==============================] - 0s 2ms/step - loss: 0.3094 - accuracy: 0.8601\n",
            "Epoch 387/500\n",
            "176/176 [==============================] - 0s 2ms/step - loss: 0.3111 - accuracy: 0.8565\n",
            "Epoch 388/500\n",
            "176/176 [==============================] - 0s 2ms/step - loss: 0.3103 - accuracy: 0.8581\n",
            "Epoch 389/500\n",
            "176/176 [==============================] - 0s 2ms/step - loss: 0.3107 - accuracy: 0.8610\n",
            "Epoch 390/500\n",
            "176/176 [==============================] - 0s 2ms/step - loss: 0.3097 - accuracy: 0.8567\n",
            "Epoch 391/500\n",
            "176/176 [==============================] - 0s 2ms/step - loss: 0.3096 - accuracy: 0.8597\n",
            "Epoch 392/500\n",
            "176/176 [==============================] - 0s 2ms/step - loss: 0.3107 - accuracy: 0.8613\n",
            "Epoch 393/500\n",
            "176/176 [==============================] - 0s 2ms/step - loss: 0.3104 - accuracy: 0.8578\n",
            "Epoch 394/500\n",
            "176/176 [==============================] - 0s 2ms/step - loss: 0.3125 - accuracy: 0.8578\n",
            "Epoch 395/500\n",
            "176/176 [==============================] - 0s 2ms/step - loss: 0.3101 - accuracy: 0.8567\n",
            "Epoch 396/500\n",
            "176/176 [==============================] - 0s 2ms/step - loss: 0.3104 - accuracy: 0.8574\n",
            "Epoch 397/500\n",
            "176/176 [==============================] - 0s 2ms/step - loss: 0.3087 - accuracy: 0.8592\n",
            "Epoch 398/500\n",
            "176/176 [==============================] - 0s 2ms/step - loss: 0.3102 - accuracy: 0.8562\n",
            "Epoch 399/500\n",
            "176/176 [==============================] - 0s 2ms/step - loss: 0.3093 - accuracy: 0.8583\n",
            "Epoch 400/500\n",
            "176/176 [==============================] - 0s 2ms/step - loss: 0.3121 - accuracy: 0.8581\n",
            "Epoch 401/500\n",
            "176/176 [==============================] - 0s 2ms/step - loss: 0.3109 - accuracy: 0.8560\n",
            "Epoch 402/500\n",
            "176/176 [==============================] - 0s 2ms/step - loss: 0.3099 - accuracy: 0.8587\n",
            "Epoch 403/500\n",
            "176/176 [==============================] - 0s 2ms/step - loss: 0.3096 - accuracy: 0.8585\n",
            "Epoch 404/500\n",
            "176/176 [==============================] - 0s 2ms/step - loss: 0.3096 - accuracy: 0.8617\n",
            "Epoch 405/500\n",
            "176/176 [==============================] - 0s 2ms/step - loss: 0.3088 - accuracy: 0.8587\n",
            "Epoch 406/500\n",
            "176/176 [==============================] - 0s 2ms/step - loss: 0.3102 - accuracy: 0.8594\n",
            "Epoch 407/500\n",
            "176/176 [==============================] - 0s 2ms/step - loss: 0.3079 - accuracy: 0.8594\n",
            "Epoch 408/500\n",
            "176/176 [==============================] - 0s 2ms/step - loss: 0.3096 - accuracy: 0.8601\n",
            "Epoch 409/500\n",
            "176/176 [==============================] - 0s 2ms/step - loss: 0.3106 - accuracy: 0.8555\n",
            "Epoch 410/500\n",
            "176/176 [==============================] - 0s 2ms/step - loss: 0.3101 - accuracy: 0.8574\n",
            "Epoch 411/500\n",
            "176/176 [==============================] - 0s 2ms/step - loss: 0.3096 - accuracy: 0.8590\n",
            "Epoch 412/500\n",
            "176/176 [==============================] - 0s 2ms/step - loss: 0.3119 - accuracy: 0.8540\n",
            "Epoch 413/500\n",
            "176/176 [==============================] - 0s 2ms/step - loss: 0.3091 - accuracy: 0.8612\n",
            "Epoch 414/500\n",
            "176/176 [==============================] - 0s 2ms/step - loss: 0.3093 - accuracy: 0.8628\n",
            "Epoch 415/500\n",
            "176/176 [==============================] - 0s 2ms/step - loss: 0.3095 - accuracy: 0.8572\n",
            "Epoch 416/500\n",
            "176/176 [==============================] - 0s 2ms/step - loss: 0.3086 - accuracy: 0.8590\n",
            "Epoch 417/500\n",
            "176/176 [==============================] - 0s 2ms/step - loss: 0.3101 - accuracy: 0.8588\n",
            "Epoch 418/500\n",
            "176/176 [==============================] - 0s 2ms/step - loss: 0.3095 - accuracy: 0.8590\n",
            "Epoch 419/500\n",
            "176/176 [==============================] - 0s 2ms/step - loss: 0.3088 - accuracy: 0.8569\n",
            "Epoch 420/500\n",
            "176/176 [==============================] - 0s 2ms/step - loss: 0.3092 - accuracy: 0.8585\n",
            "Epoch 421/500\n",
            "176/176 [==============================] - 0s 2ms/step - loss: 0.3086 - accuracy: 0.8606\n",
            "Epoch 422/500\n",
            "176/176 [==============================] - 0s 2ms/step - loss: 0.3079 - accuracy: 0.8597\n",
            "Epoch 423/500\n",
            "176/176 [==============================] - 0s 2ms/step - loss: 0.3080 - accuracy: 0.8592\n",
            "Epoch 424/500\n",
            "176/176 [==============================] - 0s 2ms/step - loss: 0.3100 - accuracy: 0.8574\n",
            "Epoch 425/500\n",
            "176/176 [==============================] - 0s 2ms/step - loss: 0.3089 - accuracy: 0.8592\n",
            "Epoch 426/500\n",
            "176/176 [==============================] - 0s 2ms/step - loss: 0.3076 - accuracy: 0.8592\n",
            "Epoch 427/500\n",
            "176/176 [==============================] - 0s 2ms/step - loss: 0.3075 - accuracy: 0.8594\n",
            "Epoch 428/500\n",
            "176/176 [==============================] - 0s 2ms/step - loss: 0.3086 - accuracy: 0.8574\n",
            "Epoch 429/500\n",
            "176/176 [==============================] - 0s 2ms/step - loss: 0.3085 - accuracy: 0.8597\n",
            "Epoch 430/500\n",
            "176/176 [==============================] - 0s 2ms/step - loss: 0.3070 - accuracy: 0.8604\n",
            "Epoch 431/500\n",
            "176/176 [==============================] - 0s 2ms/step - loss: 0.3075 - accuracy: 0.8601\n",
            "Epoch 432/500\n",
            "176/176 [==============================] - 0s 2ms/step - loss: 0.3073 - accuracy: 0.8594\n",
            "Epoch 433/500\n",
            "176/176 [==============================] - 0s 2ms/step - loss: 0.3071 - accuracy: 0.8606\n",
            "Epoch 434/500\n",
            "176/176 [==============================] - 0s 2ms/step - loss: 0.3093 - accuracy: 0.8592\n",
            "Epoch 435/500\n",
            "176/176 [==============================] - 0s 2ms/step - loss: 0.3078 - accuracy: 0.8617\n",
            "Epoch 436/500\n",
            "176/176 [==============================] - 0s 2ms/step - loss: 0.3079 - accuracy: 0.8603\n",
            "Epoch 437/500\n",
            "176/176 [==============================] - 0s 2ms/step - loss: 0.3088 - accuracy: 0.8597\n",
            "Epoch 438/500\n",
            "176/176 [==============================] - 0s 2ms/step - loss: 0.3074 - accuracy: 0.8564\n",
            "Epoch 439/500\n",
            "176/176 [==============================] - 0s 2ms/step - loss: 0.3080 - accuracy: 0.8592\n",
            "Epoch 440/500\n",
            "176/176 [==============================] - 0s 2ms/step - loss: 0.3074 - accuracy: 0.8592\n",
            "Epoch 441/500\n",
            "176/176 [==============================] - 0s 2ms/step - loss: 0.3074 - accuracy: 0.8583\n",
            "Epoch 442/500\n",
            "176/176 [==============================] - 0s 2ms/step - loss: 0.3074 - accuracy: 0.8585\n",
            "Epoch 443/500\n",
            "176/176 [==============================] - 0s 2ms/step - loss: 0.3063 - accuracy: 0.8603\n",
            "Epoch 444/500\n",
            "176/176 [==============================] - 0s 2ms/step - loss: 0.3083 - accuracy: 0.8597\n",
            "Epoch 445/500\n",
            "176/176 [==============================] - 0s 2ms/step - loss: 0.3064 - accuracy: 0.8597\n",
            "Epoch 446/500\n",
            "176/176 [==============================] - 0s 2ms/step - loss: 0.3074 - accuracy: 0.8572\n",
            "Epoch 447/500\n",
            "176/176 [==============================] - 0s 2ms/step - loss: 0.3058 - accuracy: 0.8610\n",
            "Epoch 448/500\n",
            "176/176 [==============================] - 0s 2ms/step - loss: 0.3076 - accuracy: 0.8603\n",
            "Epoch 449/500\n",
            "176/176 [==============================] - 0s 2ms/step - loss: 0.3065 - accuracy: 0.8597\n",
            "Epoch 450/500\n",
            "176/176 [==============================] - 0s 2ms/step - loss: 0.3068 - accuracy: 0.8613\n",
            "Epoch 451/500\n",
            "176/176 [==============================] - 0s 2ms/step - loss: 0.3070 - accuracy: 0.8604\n",
            "Epoch 452/500\n",
            "176/176 [==============================] - 0s 2ms/step - loss: 0.3066 - accuracy: 0.8604\n",
            "Epoch 453/500\n",
            "176/176 [==============================] - 0s 2ms/step - loss: 0.3057 - accuracy: 0.8606\n",
            "Epoch 454/500\n",
            "176/176 [==============================] - 0s 2ms/step - loss: 0.3077 - accuracy: 0.8604\n",
            "Epoch 455/500\n",
            "176/176 [==============================] - 0s 2ms/step - loss: 0.3070 - accuracy: 0.8601\n",
            "Epoch 456/500\n",
            "176/176 [==============================] - 0s 2ms/step - loss: 0.3076 - accuracy: 0.8585\n",
            "Epoch 457/500\n",
            "176/176 [==============================] - 0s 2ms/step - loss: 0.3055 - accuracy: 0.8601\n",
            "Epoch 458/500\n",
            "176/176 [==============================] - 0s 2ms/step - loss: 0.3062 - accuracy: 0.8578\n",
            "Epoch 459/500\n",
            "176/176 [==============================] - 0s 2ms/step - loss: 0.3064 - accuracy: 0.8610\n",
            "Epoch 460/500\n",
            "176/176 [==============================] - 0s 2ms/step - loss: 0.3063 - accuracy: 0.8592\n",
            "Epoch 461/500\n",
            "176/176 [==============================] - 0s 2ms/step - loss: 0.3061 - accuracy: 0.8594\n",
            "Epoch 462/500\n",
            "176/176 [==============================] - 0s 2ms/step - loss: 0.3053 - accuracy: 0.8601\n",
            "Epoch 463/500\n",
            "176/176 [==============================] - 0s 2ms/step - loss: 0.3062 - accuracy: 0.8622\n",
            "Epoch 464/500\n",
            "176/176 [==============================] - 0s 2ms/step - loss: 0.3077 - accuracy: 0.8578\n",
            "Epoch 465/500\n",
            "176/176 [==============================] - 0s 2ms/step - loss: 0.3052 - accuracy: 0.8626\n",
            "Epoch 466/500\n",
            "176/176 [==============================] - 0s 2ms/step - loss: 0.3044 - accuracy: 0.8583\n",
            "Epoch 467/500\n",
            "176/176 [==============================] - 0s 2ms/step - loss: 0.3046 - accuracy: 0.8617\n",
            "Epoch 468/500\n",
            "176/176 [==============================] - 0s 2ms/step - loss: 0.3052 - accuracy: 0.8624\n",
            "Epoch 469/500\n",
            "176/176 [==============================] - 0s 2ms/step - loss: 0.3070 - accuracy: 0.8578\n",
            "Epoch 470/500\n",
            "176/176 [==============================] - 0s 2ms/step - loss: 0.3040 - accuracy: 0.8610\n",
            "Epoch 471/500\n",
            "176/176 [==============================] - 0s 2ms/step - loss: 0.3053 - accuracy: 0.8597\n",
            "Epoch 472/500\n",
            "176/176 [==============================] - 0s 2ms/step - loss: 0.3051 - accuracy: 0.8599\n",
            "Epoch 473/500\n",
            "176/176 [==============================] - 0s 2ms/step - loss: 0.3050 - accuracy: 0.8590\n",
            "Epoch 474/500\n",
            "176/176 [==============================] - 0s 2ms/step - loss: 0.3052 - accuracy: 0.8580\n",
            "Epoch 475/500\n",
            "176/176 [==============================] - 0s 2ms/step - loss: 0.3050 - accuracy: 0.8620\n",
            "Epoch 476/500\n",
            "176/176 [==============================] - 0s 2ms/step - loss: 0.3049 - accuracy: 0.8649\n",
            "Epoch 477/500\n",
            "176/176 [==============================] - 0s 2ms/step - loss: 0.3035 - accuracy: 0.8606\n",
            "Epoch 478/500\n",
            "176/176 [==============================] - 0s 2ms/step - loss: 0.3042 - accuracy: 0.8604\n",
            "Epoch 479/500\n",
            "176/176 [==============================] - 0s 2ms/step - loss: 0.3043 - accuracy: 0.8617\n",
            "Epoch 480/500\n",
            "176/176 [==============================] - 0s 2ms/step - loss: 0.3044 - accuracy: 0.8571\n",
            "Epoch 481/500\n",
            "176/176 [==============================] - 0s 2ms/step - loss: 0.3045 - accuracy: 0.8606\n",
            "Epoch 482/500\n",
            "176/176 [==============================] - 0s 2ms/step - loss: 0.3039 - accuracy: 0.8599\n",
            "Epoch 483/500\n",
            "176/176 [==============================] - 0s 2ms/step - loss: 0.3043 - accuracy: 0.8610\n",
            "Epoch 484/500\n",
            "176/176 [==============================] - 0s 2ms/step - loss: 0.3041 - accuracy: 0.8649\n",
            "Epoch 485/500\n",
            "176/176 [==============================] - 0s 2ms/step - loss: 0.3054 - accuracy: 0.8620\n",
            "Epoch 486/500\n",
            "176/176 [==============================] - 0s 2ms/step - loss: 0.3042 - accuracy: 0.8613\n",
            "Epoch 487/500\n",
            "176/176 [==============================] - 0s 2ms/step - loss: 0.3036 - accuracy: 0.8597\n",
            "Epoch 488/500\n",
            "176/176 [==============================] - 0s 2ms/step - loss: 0.3038 - accuracy: 0.8585\n",
            "Epoch 489/500\n",
            "176/176 [==============================] - 0s 2ms/step - loss: 0.3031 - accuracy: 0.8617\n",
            "Epoch 490/500\n",
            "176/176 [==============================] - 0s 2ms/step - loss: 0.3027 - accuracy: 0.8649\n",
            "Epoch 491/500\n",
            "176/176 [==============================] - 0s 2ms/step - loss: 0.3040 - accuracy: 0.8617\n",
            "Epoch 492/500\n",
            "176/176 [==============================] - 0s 2ms/step - loss: 0.3042 - accuracy: 0.8587\n",
            "Epoch 493/500\n",
            "176/176 [==============================] - 0s 2ms/step - loss: 0.3024 - accuracy: 0.8606\n",
            "Epoch 494/500\n",
            "176/176 [==============================] - 0s 2ms/step - loss: 0.3037 - accuracy: 0.8613\n",
            "Epoch 495/500\n",
            "176/176 [==============================] - 0s 2ms/step - loss: 0.3043 - accuracy: 0.8604\n",
            "Epoch 496/500\n",
            "176/176 [==============================] - 0s 2ms/step - loss: 0.3031 - accuracy: 0.8603\n",
            "Epoch 497/500\n",
            "176/176 [==============================] - 0s 2ms/step - loss: 0.3034 - accuracy: 0.8578\n",
            "Epoch 498/500\n",
            "176/176 [==============================] - 0s 2ms/step - loss: 0.3036 - accuracy: 0.8590\n",
            "Epoch 499/500\n",
            "176/176 [==============================] - 0s 2ms/step - loss: 0.3046 - accuracy: 0.8610\n",
            "Epoch 500/500\n",
            "176/176 [==============================] - 0s 2ms/step - loss: 0.3019 - accuracy: 0.8610\n"
          ]
        },
        {
          "output_type": "execute_result",
          "data": {
            "text/plain": [
              "<keras.callbacks.History at 0x7f6064660890>"
            ]
          },
          "metadata": {},
          "execution_count": 115
        }
      ]
    },
    {
      "cell_type": "code",
      "metadata": {
        "colab": {
          "base_uri": "https://localhost:8080/"
        },
        "id": "9JEW7CwfwCkT",
        "outputId": "089bf684-cf8c-4604-be48-8e1de9a21e9f"
      },
      "source": [
        "model.evaluate(X_test,y_test)"
      ],
      "execution_count": 116,
      "outputs": [
        {
          "output_type": "stream",
          "name": "stdout",
          "text": [
            "44/44 [==============================] - 0s 1ms/step - loss: 0.6440 - accuracy: 0.7448\n"
          ]
        },
        {
          "output_type": "execute_result",
          "data": {
            "text/plain": [
              "[0.6440499424934387, 0.7448471784591675]"
            ]
          },
          "metadata": {},
          "execution_count": 116
        }
      ]
    },
    {
      "cell_type": "code",
      "metadata": {
        "colab": {
          "base_uri": "https://localhost:8080/"
        },
        "id": "hYBDhWb-xH9_",
        "outputId": "2869f966-440e-4cce-81b8-ae755f25d767"
      },
      "source": [
        "yp=model.predict(X_test)\n",
        "yp[:5]"
      ],
      "execution_count": 119,
      "outputs": [
        {
          "output_type": "execute_result",
          "data": {
            "text/plain": [
              "array([[9.1710562e-01],\n",
              "       [8.1633109e-01],\n",
              "       [4.5129657e-04],\n",
              "       [3.8577262e-01],\n",
              "       [5.6376970e-01]], dtype=float32)"
            ]
          },
          "metadata": {},
          "execution_count": 119
        }
      ]
    },
    {
      "cell_type": "code",
      "metadata": {
        "id": "pTyUZOSgxQO5"
      },
      "source": [
        "y_pred=[]\n",
        "for element in yp:\n",
        "  if element>0.5:\n",
        "    y_pred.append(1)\n",
        "  else:\n",
        "    y_pred.append(0)"
      ],
      "execution_count": 121,
      "outputs": []
    },
    {
      "cell_type": "code",
      "metadata": {
        "colab": {
          "base_uri": "https://localhost:8080/"
        },
        "id": "TzIZVnp0xx8S",
        "outputId": "03a23c9b-9543-47bc-a27a-dba25439a0a0"
      },
      "source": [
        "from sklearn.metrics import confusion_matrix, classification_report\n",
        "print(classification_report(y_test,y_pred))"
      ],
      "execution_count": 123,
      "outputs": [
        {
          "output_type": "stream",
          "name": "stdout",
          "text": [
            "              precision    recall  f1-score   support\n",
            "\n",
            "           0       0.79      0.87      0.83       999\n",
            "           1       0.58      0.44      0.50       408\n",
            "\n",
            "    accuracy                           0.74      1407\n",
            "   macro avg       0.69      0.65      0.66      1407\n",
            "weighted avg       0.73      0.74      0.73      1407\n",
            "\n"
          ]
        }
      ]
    },
    {
      "cell_type": "code",
      "metadata": {
        "colab": {
          "base_uri": "https://localhost:8080/",
          "height": 459
        },
        "id": "eFyALQ73yoZA",
        "outputId": "e5252b30-b382-4922-ee87-befe60dffb3b"
      },
      "source": [
        "import seaborn as sn \n",
        "cm=tf.math.confusion_matrix(labels=y_test,predictions=y_pred)\n",
        "plt.figure(figsize=(10,7))\n",
        "sn.heatmap(cm,annot=True,fmt='d')\n",
        "plt.xlabel('predicted')\n",
        "plt.ylabel('Truth')"
      ],
      "execution_count": 124,
      "outputs": [
        {
          "output_type": "execute_result",
          "data": {
            "text/plain": [
              "Text(69.0, 0.5, 'Truth')"
            ]
          },
          "metadata": {},
          "execution_count": 124
        },
        {
          "output_type": "display_data",
          "data": {
            "image/png": "[encoded data removed]",
            "text/plain": [
              "<Figure size 720x504 with 2 Axes>"
            ]
          },
          "metadata": {
            "needs_background": "light"
          }
        }
      ]
    },
    {
      "cell_type": "code",
      "metadata": {
        "id": "SkcK9xa2zjL8"
      },
      "source": [
        ""
      ],
      "execution_count": null,
      "outputs": []
    }
  ]
}